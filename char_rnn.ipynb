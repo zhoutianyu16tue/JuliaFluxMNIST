{
 "cells": [
  {
   "cell_type": "code",
   "execution_count": 21,
   "metadata": {},
   "outputs": [
    {
     "name": "stderr",
     "output_type": "stream",
     "text": [
      "\u001b[1m\u001b[36mINFO: \u001b[39m\u001b[22m\u001b[36mPackage ProgressMeter is already installed\n",
      "\u001b[39m\u001b[1m\u001b[36mINFO: \u001b[39m\u001b[22m\u001b[36mMETADATA is out-of-date — you may not have the latest version of ProgressMeter\n",
      "\u001b[39m\u001b[1m\u001b[36mINFO: \u001b[39m\u001b[22m\u001b[36mUse `Pkg.update()` to get the latest versions of your packages\n",
      "\u001b[39m"
     ]
    }
   ],
   "source": [
    "Pkg.add(\"ProgressMeter\")"
   ]
  },
  {
   "cell_type": "code",
   "execution_count": 23,
   "metadata": {},
   "outputs": [],
   "source": [
    "using Flux\n",
    "using Flux: onehot, argmax, chunk, batchseq, throttle, crossentropy\n",
    "using StatsBase: wsample\n",
    "using Base.Iterators: partition\n",
    "using CuArrays\n",
    "using ProgressMeter"
   ]
  },
  {
   "cell_type": "code",
   "execution_count": 3,
   "metadata": {},
   "outputs": [
    {
     "data": {
      "text/plain": [
       "true"
      ]
     },
     "execution_count": 3,
     "metadata": {},
     "output_type": "execute_result"
    }
   ],
   "source": [
    "# Download the dataset\n",
    "isfile(\"input.txt\") ||\n",
    "  download(\"http://cs.stanford.edu/people/karpathy/char-rnn/shakespeare_input.txt\",\n",
    "           \"input.txt\")"
   ]
  },
  {
   "cell_type": "code",
   "execution_count": 4,
   "metadata": {},
   "outputs": [],
   "source": [
    "text = collect(readstring(\"input.txt\"))\n",
    "alphabet = [unique(text)..., '_'];"
   ]
  },
  {
   "cell_type": "code",
   "execution_count": 6,
   "metadata": {
    "scrolled": true
   },
   "outputs": [],
   "source": [
    "text = map(ch -> onehot(ch, alphabet), text);"
   ]
  },
  {
   "cell_type": "code",
   "execution_count": 7,
   "metadata": {},
   "outputs": [],
   "source": [
    "stop = onehot('_', alphabet);"
   ]
  },
  {
   "cell_type": "code",
   "execution_count": 8,
   "metadata": {},
   "outputs": [
    {
     "data": {
      "text/plain": [
       "50"
      ]
     },
     "execution_count": 8,
     "metadata": {},
     "output_type": "execute_result"
    }
   ],
   "source": [
    "N = length(alphabet)\n",
    "seqlen = 50\n",
    "nbatch = 50"
   ]
  },
  {
   "cell_type": "code",
   "execution_count": 9,
   "metadata": {},
   "outputs": [
    {
     "data": {
      "text/plain": [
       "1830-element Array{Array{Flux.OneHotMatrix{Array{Flux.OneHotVector,1}},1},1}:\n",
       " Flux.OneHotMatrix{Array{Flux.OneHotVector,1}}[Bool[false false … false false; true false … false false; … ; false false … false false; false false … false false], Bool[false false … false false; false false … false false; … ; false false … false false; false false … false false], Bool[false false … false false; false false … false false; … ; false false … false false; false false … false false], Bool[false false … false false; false false … false false; … ; false false … false false; false false … false false], Bool[false false … false false; false false … false false; … ; false false … false false; false false … false false], Bool[false false … false false; false false … false false; … ; false false … false false; false false … false false], Bool[false false … false false; true false … false false; … ; false false … false false; false false … false false], Bool[false false … false false; false false … false true; … ; false false … false false; false false … false false], Bool[false false … false false; true false … false false; … ; false false … false false; false false … false false], Bool[false false … false false; false false … false false; … ; false false … false false; false false … false false]  …  Bool[false false … false false; false false … false false; … ; false false … false false; false false … false false], Bool[false false … false false; false false … false false; … ; false false … false false; false false … false false], Bool[false false … false false; false false … false false; … ; false false … false false; false false … false false], Bool[false false … false false; false false … false false; … ; false false … false false; false false … false false], Bool[false false … false false; false false … false false; … ; false false … false false; false false … false false], Bool[false false … false false; false false … false false; … ; false false … false false; false false … false false], Bool[false false … false false; false false … true false; … ; false false … false false; false false … false false], Bool[false false … false false; false false … false false; … ; false false … false false; false false … false false], Bool[false false … false false; false false … false false; … ; false false … false false; false false … false false], Bool[false false … false false; false false … false false; … ; false false … false false; false false … false false]]     \n",
       " Flux.OneHotMatrix{Array{Flux.OneHotVector,1}}[Bool[false false … false false; false false … false false; … ; false false … false false; false false … false false], Bool[false false … false false; false false … false false; … ; false false … false false; false false … false false], Bool[false false … false false; false false … false false; … ; false false … false false; false false … false false], Bool[false false … false false; false false … false false; … ; false false … false false; false false … false false], Bool[false false … false false; false false … false false; … ; false false … false false; false false … false false], Bool[false false … false false; false false … false false; … ; false false … false false; false false … false false], Bool[false false … false false; false false … false false; … ; false false … false false; false false … false false], Bool[false false … false true; false false … false false; … ; false false … false false; false false … false false], Bool[false false … false false; false false … false false; … ; false false … false false; false false … false false], Bool[false false … false false; false false … false false; … ; false false … false false; false false … false false]  …  Bool[false false … false false; true false … false false; … ; false false … false false; false false … false false], Bool[false false … false false; false false … false false; … ; false false … false false; false false … false false], Bool[false false … false false; false false … false false; … ; false false … false false; false false … false false], Bool[false false … false false; false false … false false; … ; false false … false false; false false … false false], Bool[false false … false false; false false … false false; … ; false false … false false; false false … false false], Bool[false false … false false; false false … false false; … ; false false … false false; false false … false false], Bool[false false … false false; false false … false false; … ; false false … false false; false false … false false], Bool[false false … false false; false false … true false; … ; false false … false false; false false … false false], Bool[false false … false false; false false … false false; … ; false false … false false; false false … false false], Bool[false false … false false; false false … false false; … ; false false … false false; false false … false false]]   \n",
       " Flux.OneHotMatrix{Array{Flux.OneHotVector,1}}[Bool[false false … false false; false false … false false; … ; false false … false false; false false … false false], Bool[false false … false false; false false … false false; … ; false false … false false; false false … false false], Bool[false false … false false; false false … false false; … ; false false … false false; false false … false false], Bool[false false … false false; false false … false true; … ; false false … false false; false false … false false], Bool[false false … false false; false false … false false; … ; false false … false false; false false … false false], Bool[false false … false false; false false … false false; … ; false false … false false; false false … false false], Bool[false false … false false; false false … false false; … ; false false … false false; false false … false false], Bool[false false … false false; false false … false false; … ; false false … false false; false false … false false], Bool[false false … false false; false false … false false; … ; false false … false false; false false … false false], Bool[false false … false false; false false … false false; … ; false false … false false; false false … false false]  …  Bool[false false … false false; false false … false false; … ; false false … false false; false false … false false], Bool[false false … false false; false false … false false; … ; false false … false false; false false … false false], Bool[false false … false false; true false … false false; … ; false false … false false; false false … false false], Bool[false false … false false; false false … false false; … ; false false … false false; false false … false false], Bool[false false … false false; false false … false false; … ; false false … false false; false false … false false], Bool[false false … false false; false true … false false; … ; false false … false false; false false … false false], Bool[false false … false false; false false … true true; … ; false false … false false; false false … false false], Bool[false false … false false; false false … false false; … ; false false … false false; false false … false false], Bool[false false … false false; false false … false false; … ; false false … false false; false false … false false], Bool[false false … false false; false false … false false; … ; false false … false false; false false … false false]]     \n",
       " Flux.OneHotMatrix{Array{Flux.OneHotVector,1}}[Bool[false false … false false; false false … false false; … ; false false … false false; false false … false false], Bool[false false … false false; false false … false false; … ; false false … false false; false false … false false], Bool[false false … false false; false false … false false; … ; false false … false false; false false … false false], Bool[false false … false false; false false … false false; … ; false false … false false; false false … false false], Bool[false false … false false; false false … false false; … ; false false … false false; false false … false false], Bool[false false … false false; false false … false false; … ; false false … false false; false false … false false], Bool[false false … false false; false true … false false; … ; false false … false false; false false … false false], Bool[false false … false false; false false … false false; … ; false false … false false; false false … false false], Bool[false false … false false; false false … false false; … ; false false … false false; false false … false false], Bool[false false … false false; false false … false false; … ; false false … false false; false false … false false]  …  Bool[false true … false false; true false … false true; … ; false false … false false; false false … false false], Bool[false false … false false; false true … false false; … ; false false … false false; false false … false false], Bool[false false … false false; false false … false false; … ; false false … false false; false false … false false], Bool[false false … false false; false false … false false; … ; false false … false false; false false … false false], Bool[false false … false false; false false … false false; … ; false false … false false; false false … false false], Bool[false false … false false; false false … false false; … ; false false … false false; false false … false false], Bool[false false … false false; false false … false false; … ; false false … false false; false false … false false], Bool[false false … false false; false false … false false; … ; false false … false false; false false … false false], Bool[false false … false false; false false … false false; … ; false false … false false; false false … false false], Bool[false false … false false; false false … false false; … ; false false … false false; false false … false false]]     \n",
       " Flux.OneHotMatrix{Array{Flux.OneHotVector,1}}[Bool[false false … false false; false false … false false; … ; false false … false false; false false … false false], Bool[false false … false false; false false … false true; … ; false false … false false; false false … false false], Bool[false false … false false; false false … false false; … ; false false … false false; false false … false false], Bool[false false … false false; false false … false false; … ; false false … false false; false false … false false], Bool[false false … false false; false false … false false; … ; false false … false false; false false … false false], Bool[false false … false false; false false … false false; … ; false false … false false; false false … false false], Bool[false false … false false; false false … false false; … ; false false … false false; false false … false false], Bool[false false … false false; true false … false false; … ; false false … false false; false false … false false], Bool[false false … false false; false false … false false; … ; false false … false false; false false … false false], Bool[false false … false false; false false … false false; … ; false false … false false; false false … false false]  …  Bool[false false … false false; false false … false false; … ; false false … false false; false false … false false], Bool[false false … false false; false false … false false; … ; false false … false false; false false … false false], Bool[false false … false false; false false … false false; … ; false false … false false; false false … false false], Bool[false false … false false; false false … false false; … ; false false … false false; false false … false false], Bool[false false … false false; false false … false false; … ; false false … false false; false false … false false], Bool[false false … false false; false false … false false; … ; false false … false false; false false … false false], Bool[false false … false false; false false … false false; … ; false false … false false; false false … false false], Bool[false false … false false; false false … false true; … ; false false … false false; false false … false false], Bool[false false … false false; false false … false false; … ; false false … false false; false false … false false], Bool[false false … false false; false false … false false; … ; false false … false false; false false … false false]]   \n",
       " Flux.OneHotMatrix{Array{Flux.OneHotVector,1}}[Bool[false false … false false; false false … false false; … ; false false … false false; false false … false false], Bool[false false … false false; false false … false false; … ; false false … false false; false false … false false], Bool[false false … false false; false false … false false; … ; false false … false false; false false … false false], Bool[false false … false false; false false … false false; … ; false false … false false; false false … false false], Bool[false false … false false; false false … false true; … ; false false … false false; false false … false false], Bool[false false … false false; false false … false false; … ; false false … false false; false false … false false], Bool[false false … false false; false false … false true; … ; false false … false false; false false … false false], Bool[false false … false false; false false … false false; … ; false false … false false; false false … false false], Bool[false false … false false; false false … false false; … ; false false … false false; false false … false false], Bool[false false … false false; false false … false false; … ; false false … false false; false false … false false]  …  Bool[false false … false false; false false … false false; … ; false false … false false; false false … false false], Bool[false false … false false; false false … false false; … ; false false … false false; false false … false false], Bool[false false … false false; false false … false false; … ; false false … false false; false false … false false], Bool[false false … false false; false false … false false; … ; false false … false false; false false … false false], Bool[false false … false false; false false … false false; … ; false false … false false; false false … false false], Bool[false false … false false; false false … false false; … ; false false … false false; false false … false false], Bool[false false … false false; false false … false false; … ; false false … false false; false false … false false], Bool[false false … false false; false false … false false; … ; false false … false false; false false … false false], Bool[false false … false false; false false … false false; … ; false false … false false; false false … false false], Bool[false false … false false; false false … false false; … ; false false … false false; false false … false false]]  \n",
       " Flux.OneHotMatrix{Array{Flux.OneHotVector,1}}[Bool[false false … false false; false true … false false; … ; false false … false false; false false … false false], Bool[false false … false false; true false … false false; … ; false false … false false; false false … false false], Bool[false false … false false; false false … false false; … ; false false … false false; false false … false false], Bool[false false … false false; false false … false false; … ; false false … false false; false false … false false], Bool[false false … false false; false false … false false; … ; false false … false false; false false … false false], Bool[false false … false false; false false … false false; … ; false false … false false; false false … false false], Bool[false false … false false; true false … false false; … ; false false … false false; false false … false false], Bool[false false … false false; false false … false false; … ; false false … false false; false false … false false], Bool[false false … false false; false false … false true; … ; false false … false false; false false … false false], Bool[false false … false false; false false … false false; … ; false false … false false; false false … false false]  …  Bool[false false … false false; false false … false false; … ; false false … false false; false false … false false], Bool[false false … false false; false false … false false; … ; false false … false false; false false … false false], Bool[false false … false false; false false … false false; … ; false false … false false; false false … false false], Bool[false false … false false; true false … false false; … ; false false … false false; false false … false false], Bool[false false … false false; false false … false false; … ; false false … false false; false false … false false], Bool[false false … true false; false false … false false; … ; false false … false false; false false … false false], Bool[false false … false false; false false … false false; … ; false false … false false; false false … false false], Bool[false false … false false; false false … false false; … ; false false … false false; false false … false false], Bool[false false … false false; false false … false false; … ; false false … false false; false false … false false], Bool[false false … false false; false false … false false; … ; false false … false false; false false … false false]]      \n",
       " Flux.OneHotMatrix{Array{Flux.OneHotVector,1}}[Bool[false false … false false; false false … false false; … ; false false … false false; false false … false false], Bool[false false … false false; false false … false false; … ; false false … false false; false false … false false], Bool[false false … false false; false false … false true; … ; false false … false false; false false … false false], Bool[false false … false false; false false … false false; … ; false false … false false; false false … false false], Bool[false false … false false; false false … false false; … ; false false … false false; false false … false false], Bool[false false … false false; false false … false false; … ; false false … false false; false false … false false], Bool[false false … false false; false false … false false; … ; false false … false false; false false … false false], Bool[false false … false false; false false … false false; … ; false false … false false; false false … false false], Bool[false false … false false; false false … false false; … ; false false … false false; false false … false false], Bool[false false … false false; true false … false false; … ; false false … false false; false false … false false]  …  Bool[false false … false false; false false … false false; … ; false false … false false; false false … false false], Bool[false false … false false; false false … false false; … ; false false … false false; false false … false false], Bool[false false … false false; false false … false false; … ; false false … false false; false false … false false], Bool[false false … false false; false false … false false; … ; false false … false false; false false … false false], Bool[false false … false false; false false … false false; … ; false false … false false; false false … false false], Bool[false false … false false; false false … false false; … ; false false … false false; false false … false false], Bool[false false … false false; true false … false false; … ; false false … false false; false false … false false], Bool[false false … false false; false true … false false; … ; false false … false false; false false … false false], Bool[false false … false false; false false … false false; … ; false false … false false; false false … false false], Bool[false false … false false; false false … true false; … ; false false … false false; false false … false false]]     \n",
       " Flux.OneHotMatrix{Array{Flux.OneHotVector,1}}[Bool[false false … false false; false false … false false; … ; false false … false false; false false … false false], Bool[false false … false false; false false … false false; … ; false false … false false; false false … false false], Bool[false false … false false; false false … false false; … ; false false … false false; false false … false false], Bool[false false … false false; false false … false false; … ; false false … false false; false false … false false], Bool[false false … false false; false false … false false; … ; false false … false false; false false … false false], Bool[false false … false false; false false … false false; … ; false false … false false; false false … false false], Bool[false false … false false; false false … false false; … ; false false … false false; false false … false false], Bool[false false … false false; false false … false false; … ; false false … false false; false false … false false], Bool[false false … false false; false false … false false; … ; false false … false false; false false … false false], Bool[false false … false false; false false … false false; … ; false false … false false; false false … false false]  …  Bool[false false … false false; false false … false false; … ; false false … false false; false false … false false], Bool[false false … false false; false false … false false; … ; false false … false false; false false … false false], Bool[false false … false false; false false … false false; … ; false false … false false; false false … false false], Bool[false false … false false; false false … false false; … ; false false … false false; false false … false false], Bool[false false … false false; false false … false false; … ; false false … false false; false false … false false], Bool[false false … false false; false false … false false; … ; false false … false false; false false … false false], Bool[false false … false false; false false … false false; … ; false false … false false; false false … false false], Bool[false false … false false; false false … false false; … ; false false … false false; false false … false false], Bool[false false … false false; false false … false false; … ; false false … false false; false false … false false], Bool[false false … false false; false false … false false; … ; false false … false false; false false … false false]]\n",
       " Flux.OneHotMatrix{Array{Flux.OneHotVector,1}}[Bool[false false … false false; false false … false false; … ; false false … false false; false false … false false], Bool[false false … false false; false false … false false; … ; false false … false false; false false … false false], Bool[false false … false false; false false … false false; … ; false false … false false; false false … false false], Bool[false false … false false; true false … false false; … ; false false … false false; false false … false false], Bool[false false … false false; false false … false false; … ; false false … false false; false false … false false], Bool[false false … false false; true false … false false; … ; false false … false false; false false … false false], Bool[false false … false false; false false … false false; … ; false false … false false; false false … false false], Bool[false false … false false; false false … false false; … ; false false … false false; false false … false false], Bool[false false … false false; false false … false false; … ; false false … false false; false false … false false], Bool[false false … false false; false false … false false; … ; false false … false false; false false … false false]  …  Bool[false false … false false; false false … false false; … ; false false … false false; false false … false false], Bool[false false … false false; false false … false false; … ; false false … false false; false false … false false], Bool[false false … false false; false false … false false; … ; false false … false false; false false … false false], Bool[false false … false false; false false … false false; … ; false false … false false; false false … false false], Bool[false false … false false; false false … false false; … ; false false … false false; false false … false false], Bool[false false … false false; false false … false false; … ; false false … false false; false false … false false], Bool[false false … false false; false false … false false; … ; false false … false false; false false … false false], Bool[false false … false false; false false … false false; … ; false false … false false; false false … false false], Bool[false false … false false; false false … false false; … ; false false … false false; false false … false false], Bool[false false … false false; false false … false false; … ; false false … false false; false false … false false]]  \n",
       " Flux.OneHotMatrix{Array{Flux.OneHotVector,1}}[Bool[false false … false false; false false … false false; … ; false false … false false; false false … false false], Bool[false false … false false; true false … false true; … ; false false … false false; false false … false false], Bool[false false … false false; false false … false false; … ; false false … false false; false false … false false], Bool[false false … false false; true false … false false; … ; false false … false false; false false … false false], Bool[false false … false false; false false … false false; … ; false false … false false; false false … false false], Bool[false false … false false; false false … false false; … ; false false … false false; false false … false false], Bool[false false … false false; false false … false false; … ; false false … false false; false false … false false], Bool[false false … false false; false false … false false; … ; false false … false false; false false … false false], Bool[false false … false false; false false … false false; … ; false false … false false; false false … false false], Bool[false false … false false; false false … false false; … ; false false … false false; false false … false false]  …  Bool[false false … false false; false false … false false; … ; false false … false false; false false … false false], Bool[false false … false false; false false … false false; … ; false false … false false; false false … false false], Bool[false false … false false; true false … false false; … ; false false … false false; false false … false false], Bool[false false … false false; false false … false false; … ; false false … false false; false false … false false], Bool[false false … false false; false false … false false; … ; false false … false false; false false … false false], Bool[false false … false false; false false … false false; … ; false false … false false; false false … false false], Bool[false false … false false; false false … false true; … ; false false … false false; false false … false false], Bool[false false … false false; false false … false false; … ; false false … false false; false false … false false], Bool[false false … false false; false false … false false; … ; false false … false false; false false … false false], Bool[false false … false false; false false … false false; … ; false false … false false; false false … false false]]     \n",
       " Flux.OneHotMatrix{Array{Flux.OneHotVector,1}}[Bool[false false … false false; false false … false false; … ; false false … false false; false false … false false], Bool[false false … false false; true false … false false; … ; false false … false false; false false … false false], Bool[false false … false false; false false … false false; … ; false false … false false; false false … false false], Bool[false false … false false; false true … false false; … ; false false … false false; false false … false false], Bool[false false … false false; false false … false false; … ; false false … false false; false false … false false], Bool[false false … false false; false true … false false; … ; false false … false false; false false … false false], Bool[false false … false false; false false … false false; … ; false false … false false; false false … false false], Bool[false false … false false; false false … false false; … ; false false … false false; false false … false false], Bool[false false … false false; false false … false false; … ; false false … false false; false false … false false], Bool[false false … false false; false false … false false; … ; false false … false false; false false … false false]  …  Bool[false false … false false; false false … false false; … ; false false … false false; false false … false false], Bool[false false … false false; true false … true false; … ; false false … false false; false false … false false], Bool[false false … false false; false false … false false; … ; false false … false false; false false … false false], Bool[false false … false false; false true … false false; … ; false false … false false; false false … false false], Bool[false false … false false; false false … false false; … ; false false … false false; false false … false false], Bool[false false … false false; false false … false false; … ; false false … false false; false false … false false], Bool[false false … false false; false false … false false; … ; false false … false false; false false … false false], Bool[false false … false false; false false … false false; … ; false false … false false; false false … false false], Bool[false false … false false; false false … false false; … ; false false … false false; false false … false false], Bool[false false … false false; false false … false false; … ; false false … false false; false false … false false]]      \n",
       " Flux.OneHotMatrix{Array{Flux.OneHotVector,1}}[Bool[false false … false false; false false … true false; … ; false false … false false; false false … false false], Bool[false false … false false; false true … false false; … ; false false … false false; false false … false false], Bool[false false … false false; false false … false false; … ; false false … false false; false false … false false], Bool[false false … false false; false false … false false; … ; false false … false false; false false … false false], Bool[false false … false false; false false … true false; … ; false false … false false; false false … false false], Bool[false false … false false; false false … false false; … ; false false … false false; false false … false false], Bool[false false … false false; false false … false false; … ; false false … false false; false false … false false], Bool[false false … false false; false false … true false; … ; false false … false false; false false … false false], Bool[false false … false false; false false … false false; … ; false false … false false; false false … false false], Bool[false false … false false; false false … false false; … ; false false … false false; false false … false false]  …  Bool[false false … false false; false false … false false; … ; false false … false false; false false … false false], Bool[false false … false false; false false … false false; … ; false false … false false; false false … false false], Bool[false false … false false; false false … false false; … ; false false … false false; false false … false false], Bool[false false … false false; false false … false false; … ; false false … false false; false false … false false], Bool[false false … false false; false false … false false; … ; false false … false false; false false … false false], Bool[false false … false false; false false … false false; … ; false false … false false; false false … false false], Bool[false false … false false; false false … false false; … ; false false … false false; false false … false false], Bool[false false … false false; false false … false false; … ; false false … false false; false false … false false], Bool[false false … false false; false false … false false; … ; false false … false false; false false … false false], Bool[false false … false false; true false … true false; … ; false false … false false; false false … false false]]      \n",
       " ⋮                                                                                                                                                                                                                                                                                                                                                                                                                                                                                                                                                                                                                                                                                                                                                                                                                                                                                                                                                                                                                                                                                                                                                                                                                                                                                                                                                                                                                                                                                                                                                                                                                                                                                                                                                                                                                                                                                                                                                                                                                                                                                                                                                                                                                                                                                                                                                                                                                                                                                                       \n",
       " Flux.OneHotMatrix{Array{Flux.OneHotVector,1}}[Bool[false false … false false; false false … false false; … ; false false … false false; false false … false false], Bool[false false … false false; false false … false false; … ; false false … false false; false false … false false], Bool[false false … false false; false false … false false; … ; false false … false false; false false … false false], Bool[false false … false false; false false … false false; … ; false false … false false; false false … false false], Bool[false false … false false; false false … false false; … ; false false … false false; false false … false false], Bool[false false … false false; false true … false false; … ; false false … false false; false false … false false], Bool[false false … false false; false false … false false; … ; false false … false false; false false … false false], Bool[false false … false false; false false … false false; … ; false false … false false; false false … false false], Bool[false false … false false; false false … false false; … ; false false … false false; false false … false false], Bool[false false … false false; false false … false false; … ; false false … false false; false false … false false]  …  Bool[false false … false false; false false … false false; … ; false false … false false; false false … false false], Bool[false false … false false; false false … false false; … ; false false … false false; false false … false false], Bool[false false … false false; false false … false false; … ; false false … false false; false false … false false], Bool[false false … false false; false false … false false; … ; false false … false false; false false … false false], Bool[false false … false false; false false … false false; … ; false false … false false; false false … false false], Bool[false false … false false; false false … false false; … ; false false … false false; false false … false false], Bool[false false … false false; false false … false false; … ; false false … false false; false false … false false], Bool[false false … false false; false false … false false; … ; false false … false false; false false … false false], Bool[false false … false false; false false … false false; … ; false false … false false; false false … false false], Bool[false false … false false; false false … false false; … ; false false … false false; false false … false false]] \n",
       " Flux.OneHotMatrix{Array{Flux.OneHotVector,1}}[Bool[false false … false false; false false … false false; … ; false false … false false; false false … false false], Bool[false false … false false; false false … false false; … ; false false … false false; false false … false false], Bool[false false … false false; false false … false false; … ; false false … false false; false false … false false], Bool[false false … false false; false false … false false; … ; false false … false false; false false … false false], Bool[false false … false false; false false … false false; … ; false false … false false; false false … false false], Bool[false false … false false; false false … false false; … ; false false … false false; false false … false false], Bool[false false … false false; false false … false false; … ; false false … false false; false false … false false], Bool[false false … false false; false false … false false; … ; false false … false false; false false … false false], Bool[false false … false false; false false … false false; … ; false false … false false; false false … false false], Bool[false false … false false; false false … true false; … ; false false … false false; false false … false false]  …  Bool[false false … false false; true false … false false; … ; false false … false false; false false … false false], Bool[false false … false false; false false … false false; … ; false false … false false; false false … false false], Bool[false false … false false; false false … true false; … ; false false … false false; false false … false false], Bool[false false … false false; false false … false false; … ; false false … false false; false false … false false], Bool[false false … false false; false false … false false; … ; false false … false false; false false … false false], Bool[false false … false false; false false … false false; … ; false false … false false; false false … false false], Bool[false false … false false; false false … false false; … ; false false … false false; false false … false false], Bool[false false … false false; true false … false false; … ; false false … false false; false false … false false], Bool[false false … false false; false false … false true; … ; false false … false false; false false … false false], Bool[false false … false false; false false … false false; … ; false false … false false; false false … false false]]     \n",
       " Flux.OneHotMatrix{Array{Flux.OneHotVector,1}}[Bool[false false … false false; false false … false false; … ; false false … false false; false false … false false], Bool[false false … false false; false false … false false; … ; false false … false false; false false … false false], Bool[false false … false false; false false … false false; … ; false false … false false; false false … false false], Bool[false false … false false; false false … false false; … ; false false … false false; false false … false false], Bool[false false … false false; false false … false false; … ; false false … false false; false false … false false], Bool[false false … false false; false false … false false; … ; false false … false false; false false … false false], Bool[false false … false false; false false … false false; … ; false false … false false; false false … false false], Bool[false false … false false; false false … false false; … ; false false … false false; false false … false false], Bool[false false … false false; false false … false false; … ; false false … false false; false false … false false], Bool[false false … false false; false true … false false; … ; false false … false false; false false … false false]  …  Bool[false false … false false; false false … false false; … ; false false … false false; false false … false false], Bool[false false … false false; false false … false false; … ; false false … false false; false false … false false], Bool[false false … false false; false false … false false; … ; false false … false false; false false … false false], Bool[false false … false false; false false … true false; … ; false false … false false; false false … false false], Bool[false false … false false; false false … false false; … ; false false … false false; false false … false false], Bool[false false … false false; false false … false true; … ; false false … false false; false false … false false], Bool[false false … false false; false false … false false; … ; false false … false false; false false … false false], Bool[false false … false false; false false … false false; … ; false false … false false; false false … false false], Bool[false false … false false; false false … false false; … ; false false … false false; false false … false false], Bool[false false … false false; false false … false false; … ; false false … false false; false false … false false]]   \n",
       " Flux.OneHotMatrix{Array{Flux.OneHotVector,1}}[Bool[false false … false false; false false … false false; … ; false false … false false; false false … false false], Bool[false false … false false; false false … false false; … ; false false … false false; false false … false false], Bool[false false … false false; false false … false false; … ; false false … false false; false false … false false], Bool[false false … false false; false false … false false; … ; false false … false false; false false … false false], Bool[false false … false false; false false … false false; … ; false false … false false; false false … false false], Bool[false false … false false; false false … false false; … ; false false … false false; false false … false false], Bool[false false … false false; false false … false false; … ; false false … false false; false false … false false], Bool[false false … false false; false false … false false; … ; false false … false false; false false … false false], Bool[false false … false false; false false … false false; … ; false false … false false; false false … false false], Bool[false false … false false; false false … false false; … ; false false … false false; false false … false false]  …  Bool[false false … false false; false false … false false; … ; false false … false false; false false … false false], Bool[false false … false false; false false … false false; … ; false false … false false; false false … false false], Bool[false false … false false; false false … false false; … ; false false … false false; false false … false false], Bool[false false … false false; false false … false false; … ; false false … false false; false false … false false], Bool[false false … false false; false false … false false; … ; false false … false false; false false … false false], Bool[false false … false false; false false … true false; … ; false false … false false; false false … false false], Bool[false false … false false; false false … false false; … ; false false … false false; false false … false false], Bool[false false … false false; false false … false false; … ; false false … false false; false false … false false], Bool[false false … false false; false false … false false; … ; false false … false false; false false … false false], Bool[false false … false false; false false … false false; … ; false false … false false; false false … false false]] \n",
       " Flux.OneHotMatrix{Array{Flux.OneHotVector,1}}[Bool[false false … false false; true false … false false; … ; false false … false false; false false … false false], Bool[false false … false false; false false … false false; … ; false false … false false; false false … false false], Bool[false false … false false; false false … false false; … ; false false … false false; false false … false false], Bool[false false … false false; false false … false false; … ; false false … false false; false false … false false], Bool[false false … false false; false false … false false; … ; false false … false false; false false … false false], Bool[false false … false false; false false … false false; … ; false false … false false; false false … false false], Bool[false false … false false; false false … false false; … ; false false … false false; false false … false false], Bool[false false … false false; false false … false true; … ; false false … false false; false false … false false], Bool[false false … false false; false false … false false; … ; false false … false false; false false … false false], Bool[false false … false false; false false … false false; … ; false false … false false; false false … false false]  …  Bool[false false … false false; false false … false false; … ; false false … false false; false false … false false], Bool[false false … false false; false false … false false; … ; false false … false false; false false … false false], Bool[false false … false false; false false … false false; … ; false false … false false; false false … false false], Bool[false false … false false; false false … false false; … ; false false … false false; false false … false false], Bool[false false … false false; false false … true false; … ; false false … false false; false false … false false], Bool[false false … false false; false false … false false; … ; false false … false false; false false … false false], Bool[false false … false false; false false … false false; … ; false false … false false; false false … false false], Bool[false false … false false; false false … false true; … ; false false … false false; false false … false false], Bool[false false … false false; false false … false false; … ; false false … false false; false false … false false], Bool[false false … false false; false false … false false; … ; false false … false false; false false … false false]]    \n",
       " Flux.OneHotMatrix{Array{Flux.OneHotVector,1}}[Bool[false false … false false; false false … false false; … ; false false … false false; false false … false false], Bool[false false … false false; false false … false false; … ; false false … false false; false false … false false], Bool[false false … false false; false false … false false; … ; false false … false false; false false … false false], Bool[false false … false false; false false … false false; … ; false false … false false; false false … false false], Bool[false false … false false; false false … true false; … ; false false … false false; false false … false false], Bool[false false … false false; false false … false true; … ; false false … false false; false false … false false], Bool[false false … false false; false false … false false; … ; false false … false false; false false … false false], Bool[false false … false false; false false … false false; … ; false false … false false; false false … false false], Bool[false false … false false; false false … false false; … ; false false … false false; false false … false false], Bool[false false … false false; false false … false false; … ; false false … false false; false false … false false]  …  Bool[false false … false false; false false … true false; … ; false false … false false; false false … false false], Bool[false false … false false; false false … false false; … ; false false … false false; false false … false false], Bool[false false … false false; false false … false false; … ; false false … false false; false false … false false], Bool[false false … false false; false false … false false; … ; false false … false false; false false … false false], Bool[false false … false false; false false … true false; … ; false false … false false; false false … false false], Bool[false false … false false; false false … false true; … ; false false … false false; false false … false false], Bool[false false … false false; false true … false false; … ; false false … false false; false false … false false], Bool[false false … false false; false false … false false; … ; false false … false false; false false … false false], Bool[false false … false false; false false … false false; … ; false false … false false; false false … false false], Bool[false false … false false; false false … true false; … ; false false … false false; false false … false false]]       \n",
       " Flux.OneHotMatrix{Array{Flux.OneHotVector,1}}[Bool[false false … false false; false false … false false; … ; false false … false false; false false … false false], Bool[false false … false false; false false … false false; … ; false false … false false; false false … false false], Bool[false false … false false; false false … false false; … ; false false … false false; false false … false false], Bool[false false … false false; false false … false false; … ; false false … false false; false false … false false], Bool[false false … false false; false false … false false; … ; false false … false false; false false … false false], Bool[false false … false false; false false … true false; … ; false false … false false; false false … false false], Bool[false false … false false; false false … false false; … ; false false … false false; false false … false false], Bool[false false … false false; false false … false false; … ; false false … false false; false false … false false], Bool[false false … false false; false false … false false; … ; false false … false false; false false … false false], Bool[false false … false false; false false … false false; … ; false false … false false; false false … false false]  …  Bool[false false … false false; false false … false false; … ; false false … false false; false false … false false], Bool[false false … false false; false false … false true; … ; false false … false false; false false … false false], Bool[false false … false false; false false … false false; … ; false false … false false; false false … false false], Bool[false false … false false; false false … true false; … ; false false … false false; false false … false false], Bool[false false … false false; false false … false false; … ; false false … false false; false false … false false], Bool[false false … false false; false false … false true; … ; false false … false false; false false … false false], Bool[false false … false false; false false … true false; … ; false false … false false; false false … false false], Bool[false false … false false; false false … false false; … ; false false … false false; false false … false false], Bool[false false … false false; false false … false false; … ; false false … false false; false false … false false], Bool[false false … false false; false false … false false; … ; false false … false false; false false … false false]]     \n",
       " Flux.OneHotMatrix{Array{Flux.OneHotVector,1}}[Bool[false false … false false; false false … false false; … ; false false … false false; false false … false false], Bool[false false … false false; false false … false true; … ; false false … false false; false false … false false], Bool[false false … false false; false false … false false; … ; false false … false false; false false … false false], Bool[false false … false false; false false … false false; … ; false false … false false; false false … false false], Bool[false false … false false; false false … false false; … ; false false … false false; false false … false false], Bool[false false … false false; false false … true false; … ; false false … false false; false false … false false], Bool[false false … false false; false false … false false; … ; false false … false false; false false … false false], Bool[false false … false false; false false … false false; … ; false false … false false; false false … false false], Bool[false false … false false; false false … false false; … ; false false … false false; false false … false false], Bool[false false … false false; false false … false false; … ; false false … false false; false false … false false]  …  Bool[false false … false false; false false … false false; … ; false false … false false; false false … false false], Bool[false false … false false; false false … false false; … ; false false … false false; false false … false false], Bool[false false … false false; false false … false true; … ; false false … false false; false false … false false], Bool[false false … false false; false false … false false; … ; false false … false false; false false … false false], Bool[false false … false false; false false … true false; … ; false false … false false; false false … false false], Bool[false false … false false; false false … false false; … ; false false … false false; false false … false false], Bool[false false … false false; false false … false false; … ; false false … false false; false false … false false], Bool[false false … false false; false false … false false; … ; false false … false false; false false … false false], Bool[false false … false false; false false … false false; … ; false false … false false; false false … false false], Bool[false false … false false; false false … false false; … ; false false … false false; false false … false false]]    \n",
       " Flux.OneHotMatrix{Array{Flux.OneHotVector,1}}[Bool[false false … false false; false false … false false; … ; false false … false false; false false … false false], Bool[false false … false false; false false … false false; … ; false false … false false; false false … false false], Bool[false false … false false; false false … false false; … ; false false … false false; false false … false false], Bool[false false … false false; false false … false false; … ; false false … false false; false false … false false], Bool[false false … false false; false false … false false; … ; false false … false false; false false … false false], Bool[false false … false false; false false … false false; … ; false false … false false; false false … false false], Bool[false false … false false; false false … false false; … ; false false … false false; false false … false false], Bool[false false … false false; false false … false false; … ; false false … false false; false false … false false], Bool[false false … false false; false false … false false; … ; false false … false false; false false … false false], Bool[false false … false false; false false … false false; … ; false false … false false; false false … false false]  …  Bool[false false … false false; false false … false false; … ; false false … false false; false false … false false], Bool[false false … false false; false true … false false; … ; false false … false false; false false … false false], Bool[false false … false false; false false … false false; … ; false false … false false; false false … false false], Bool[false false … false false; false false … false false; … ; false false … false false; false false … false false], Bool[false false … false false; false false … false false; … ; false false … false false; false false … false false], Bool[false false … false false; false false … false false; … ; false false … false false; false false … false false], Bool[false false … false false; false false … false false; … ; false false … false false; false false … false false], Bool[false false … false false; false false … false false; … ; false false … false false; false false … false false], Bool[false false … false false; false false … false false; … ; false false … false false; false false … false false], Bool[false false … false false; false false … false false; … ; false false … false false; false false … false false]] \n",
       " Flux.OneHotMatrix{Array{Flux.OneHotVector,1}}[Bool[false false … false false; false false … false false; … ; false false … false false; false false … false false], Bool[false false … false false; false false … false false; … ; false false … false false; false false … false false], Bool[false false … false false; false false … false false; … ; false false … false false; false false … false false], Bool[false false … false false; false false … false false; … ; false false … false false; false false … false false], Bool[false false … false false; false false … false false; … ; false false … false false; false false … false false], Bool[false false … false false; false false … false true; … ; false false … false false; false false … false false], Bool[false false … false false; false false … false false; … ; false false … false false; false false … false false], Bool[false false … false false; false false … false false; … ; false false … false false; false false … false false], Bool[false false … false false; false false … false false; … ; false false … false false; false false … false false], Bool[false false … false false; false false … true false; … ; false false … false false; false false … false false]  …  Bool[false false … false false; false false … false false; … ; false false … false false; false false … false false], Bool[false false … false false; false false … false false; … ; false false … false false; false false … false false], Bool[false false … false false; false false … false false; … ; false false … false false; false false … false false], Bool[false false … false false; false false … false false; … ; false false … false false; false false … false false], Bool[false false … false false; false false … false false; … ; false false … false false; false false … false false], Bool[false false … false false; false false … false false; … ; false false … false false; false false … false false], Bool[false false … false false; false false … true false; … ; false false … false false; false false … false false], Bool[false false … false false; false false … false false; … ; false false … false false; false false … false false], Bool[false false … false false; false false … false false; … ; false false … false false; false false … false false], Bool[false false … false false; false false … false false; … ; false false … false false; false false … false false]]   \n",
       " Flux.OneHotMatrix{Array{Flux.OneHotVector,1}}[Bool[false false … false false; false false … false false; … ; false false … false false; false false … false false], Bool[false false … false false; false false … false false; … ; false false … false false; false false … false false], Bool[false false … false false; false false … false false; … ; false false … false false; false false … false false], Bool[false false … false false; false false … false false; … ; false false … false false; false false … false false], Bool[false false … false false; false false … false false; … ; false false … false false; false false … false false], Bool[false false … false false; false false … true false; … ; false false … false false; false false … false false], Bool[false false … false false; false false … false false; … ; false false … false false; false false … false false], Bool[false false … false false; false false … false false; … ; false false … false false; false false … false false], Bool[false false … false false; false false … true false; … ; false false … false false; false false … false false], Bool[false false … false false; false false … false false; … ; false false … false false; false false … false false]  …  Bool[false false … false false; false false … false false; … ; false false … false false; false false … false false], Bool[false false … false false; false true … false false; … ; false false … false false; false false … false false], Bool[false false … false false; false false … false false; … ; false false … false false; false false … false false], Bool[false false … false false; false false … false false; … ; false false … false false; false false … false false], Bool[false false … false false; false false … false false; … ; false false … false false; false false … false false], Bool[false false … false false; false true … false false; … ; false false … false false; false false … false false], Bool[false false … false false; false false … false false; … ; false false … false false; false false … false false], Bool[false false … false false; false false … false false; … ; false false … false false; false false … false false], Bool[false false … false false; true false … false false; … ; false false … false false; false false … false false], Bool[false false … false false; false false … false false; … ; false false … false false; false false … false false]]     \n",
       " Flux.OneHotMatrix{Array{Flux.OneHotVector,1}}[Bool[false false … false false; false false … false false; … ; false false … false false; false false … false false], Bool[false false … false false; false false … false false; … ; false false … false false; false false … false false], Bool[false false … false false; false false … false false; … ; false false … false false; false false … false false], Bool[false false … false false; false false … false false; … ; false false … false false; false false … false false], Bool[false false … false false; false false … false false; … ; false false … false false; false false … false true], Bool[false false … false false; false false … false false; … ; false false … false false; false false … false true], Bool[false false … false false; false false … false false; … ; false false … false false; false false … false true], Bool[false false … false false; false false … false false; … ; false false … false false; false false … false true], Bool[false false … false false; false false … false false; … ; false false … false false; false false … false true], Bool[false false … false false; false false … false false; … ; false false … false false; false false … false true], Bool[false false … false false; false false … false false; … ; false false … false false; false false … false true], Bool[false false … false false; false false … false false; … ; false false … false false; false false … false true], Bool[false false … false false; false false … false false; … ; false false … false false; false false … false true], Bool[false false … false false; false false … false false; … ; false false … false false; false false … false true], Bool[false false … false false; false false … false false; … ; false false … false false; false false … false true], Bool[false false … false false; false false … false false; … ; false false … false false; false false … false true], Bool[false false … false false; false false … false false; … ; false false … false false; false false … false true]]                                                                                                                                                                                                                                                                                                                                                                                  "
      ]
     },
     "execution_count": 9,
     "metadata": {},
     "output_type": "execute_result"
    }
   ],
   "source": [
    "X_train = collect(partition(batchseq(chunk(text, nbatch), stop), seqlen))\n",
    "y_train = collect(partition(batchseq(chunk(text[2:end], nbatch), stop), seqlen))"
   ]
  },
  {
   "cell_type": "code",
   "execution_count": 115,
   "metadata": {},
   "outputs": [
    {
     "data": {
      "text/plain": [
       "Chain(Recur(LSTMCell(68, 128)), Recur(LSTMCell(128, 128)), Dense(128, 68), NNlib.softmax)"
      ]
     },
     "execution_count": 115,
     "metadata": {},
     "output_type": "execute_result"
    }
   ],
   "source": [
    "model = Chain(\n",
    "  LSTM(N, 128),\n",
    "  LSTM(128, 128),\n",
    "  Dense(128, N),\n",
    "  softmax)\n",
    "\n",
    "model = mapleaves(cu, model)"
   ]
  },
  {
   "cell_type": "code",
   "execution_count": 71,
   "metadata": {},
   "outputs": [
    {
     "data": {
      "text/plain": [
       "loss (generic function with 1 method)"
      ]
     },
     "execution_count": 71,
     "metadata": {},
     "output_type": "execute_result"
    }
   ],
   "source": [
    "function loss(xs, ys)\n",
    "    l = sum(crossentropy.(model.(xs), ys))\n",
    "    Flux.truncate!(model)\n",
    "    return l\n",
    "end"
   ]
  },
  {
   "cell_type": "code",
   "execution_count": 72,
   "metadata": {},
   "outputs": [
    {
     "data": {
      "text/plain": [
       "(::#71) (generic function with 1 method)"
      ]
     },
     "execution_count": 72,
     "metadata": {},
     "output_type": "execute_result"
    }
   ],
   "source": [
    "opt = ADAM(params(model), 0.01)"
   ]
  },
  {
   "cell_type": "code",
   "execution_count": 73,
   "metadata": {},
   "outputs": [
    {
     "data": {
      "text/plain": [
       "(::#31) (generic function with 1 method)"
      ]
     },
     "execution_count": 73,
     "metadata": {},
     "output_type": "execute_result"
    }
   ],
   "source": [
    "evalcb = () -> @show loss(X_train[5], y_train[5])"
   ]
  },
  {
   "cell_type": "code",
   "execution_count": null,
   "metadata": {
    "scrolled": true
   },
   "outputs": [],
   "source": [
    "Flux.train!(loss, zip(X_train, y_train), opt,\n",
    "            cb = throttle(evalcb, 30))"
   ]
  },
  {
   "cell_type": "code",
   "execution_count": 76,
   "metadata": {},
   "outputs": [
    {
     "name": "stdout",
     "output_type": "stream",
     "text": [
      "Batch 1\n"
     ]
    },
    {
     "ename": "LoadError",
     "evalue": "\u001b[91mArrays type contains pointer - this doesn't work on the GPU (So arrays that don't contain pointers to memory, e.g. UnitRanges, would work).\n            Try converting it to a gpu array. Found: BitArray{2}\u001b[39m",
     "output_type": "error",
     "traceback": [
      "\u001b[91mArrays type contains pointer - this doesn't work on the GPU (So arrays that don't contain pointers to memory, e.g. UnitRanges, would work).\n            Try converting it to a gpu array. Found: BitArray{2}\u001b[39m",
      "",
      "Stacktrace:",
      " [1] \u001b[1marg_length\u001b[22m\u001b[22m\u001b[1m(\u001b[22m\u001b[22m::BitArray{2}\u001b[1m)\u001b[22m\u001b[22m at \u001b[1m/root/.julia/v0.6/GPUArrays/src/broadcast.jl:109\u001b[22m\u001b[22m",
      " [2] \u001b[1mGPUArrays.BInfo\u001b[22m\u001b[22m\u001b[1m(\u001b[22m\u001b[22m::BitArray{2}, ::Tuple{Bool,Bool}, ::Tuple{Int64,Int64}\u001b[1m)\u001b[22m\u001b[22m at \u001b[1m/root/.julia/v0.6/GPUArrays/src/broadcast.jl:128\u001b[22m\u001b[22m",
      " [3] \u001b[1mntuple\u001b[22m\u001b[22m\u001b[1m(\u001b[22m\u001b[22m::GPUArrays.##21#22{Tuple{Tuple{Bool},Tuple{Bool,Bool}},Tuple{Tuple{Int64},Tuple{Int64,Int64}},Tuple{CuArray{ForwardDiff.Dual{Void,Float32,2},1},BitArray{2}}}, ::Int64\u001b[1m)\u001b[22m\u001b[22m at \u001b[1m./tuple.jl:108\u001b[22m\u001b[22m",
      " [4] \u001b[1m_broadcast!\u001b[22m\u001b[22m\u001b[1m(\u001b[22m\u001b[22m::Function, ::CuArray{ForwardDiff.Dual{Void,Float32,2},2}, ::Tuple{Tuple{Bool},Tuple{Bool,Bool}}, ::Tuple{Tuple{Int64},Tuple{Int64,Int64}}, ::CuArray{ForwardDiff.Dual{Void,Float32,2},1}, ::Tuple{BitArray{2}}, ::Type{Val{1}}, ::CartesianRange{CartesianIndex{2}}\u001b[1m)\u001b[22m\u001b[22m at \u001b[1m/root/.julia/v0.6/GPUArrays/src/broadcast.jl:86\u001b[22m\u001b[22m",
      " [5] \u001b[1mbroadcast_t\u001b[22m\u001b[22m\u001b[1m(\u001b[22m\u001b[22m::Function, ::Type{ForwardDiff.Dual{Void,Float32,2}}, ::Tuple{Base.OneTo{Int64},Base.OneTo{Int64}}, ::CartesianRange{CartesianIndex{2}}, ::CuArray{ForwardDiff.Dual{Void,Float32,2},1}, ::BitArray{2}\u001b[1m)\u001b[22m\u001b[22m at \u001b[1m/root/.julia/v0.6/GPUArrays/src/broadcast.jl:49\u001b[22m\u001b[22m",
      " [6] \u001b[1mbroadcast_c\u001b[22m\u001b[22m at \u001b[1m./broadcast.jl:316\u001b[22m\u001b[22m [inlined]",
      " [7] \u001b[1mbroadcast\u001b[22m\u001b[22m at \u001b[1m./broadcast.jl:455\u001b[22m\u001b[22m [inlined]",
      " [8] \u001b[1mtracked_broadcast\u001b[22m\u001b[22m\u001b[1m(\u001b[22m\u001b[22m::Function, ::TrackedArray{…,CuArray{Float32,1}}, ::BitArray{2}\u001b[1m)\u001b[22m\u001b[22m at \u001b[1m/root/.julia/v0.6/Flux/src/tracker/lib.jl:177\u001b[22m\u001b[22m",
      " [9] \u001b[1mcombine\u001b[22m\u001b[22m\u001b[1m(\u001b[22m\u001b[22m::CuArray{Bool,2}, ::TrackedArray{…,CuArray{Float32,1}}\u001b[1m)\u001b[22m\u001b[22m at \u001b[1m/root/.julia/v0.6/Flux/src/layers/recurrent.jl:2\u001b[22m\u001b[22m",
      " [10] \u001b[1m(::Flux.LSTMCell{Flux.Dense{NNlib.#σ,TrackedArray{…,CuArray{Float32,2}},TrackedArray{…,CuArray{Float32,1}}},Flux.Dense{Base.#tanh,TrackedArray{…,CuArray{Float32,2}},TrackedArray{…,CuArray{Float32,1}}},TrackedArray{…,CuArray{Float32,1}}})\u001b[22m\u001b[22m\u001b[1m(\u001b[22m\u001b[22m::Tuple{TrackedArray{…,CuArray{Float32,1}},TrackedArray{…,CuArray{Float32,1}}}, ::CuArray{Bool,2}\u001b[1m)\u001b[22m\u001b[22m at \u001b[1m/root/.julia/v0.6/Flux/src/layers/recurrent.jl:126\u001b[22m\u001b[22m",
      " [11] \u001b[1m(::Flux.Recur{Flux.LSTMCell{Flux.Dense{NNlib.#σ,TrackedArray{…,CuArray{Float32,2}},TrackedArray{…,CuArray{Float32,1}}},Flux.Dense{Base.#tanh,TrackedArray{…,CuArray{Float32,2}},TrackedArray{…,CuArray{Float32,1}}},TrackedArray{…,CuArray{Float32,1}}}})\u001b[22m\u001b[22m\u001b[1m(\u001b[22m\u001b[22m::CuArray{Bool,2}, ::Vararg{CuArray{Bool,2},N} where N\u001b[1m)\u001b[22m\u001b[22m at \u001b[1m/root/.julia/v0.6/Flux/src/layers/recurrent.jl:37\u001b[22m\u001b[22m",
      " [12] \u001b[1mmapfoldl_impl\u001b[22m\u001b[22m\u001b[1m(\u001b[22m\u001b[22m::Base.#identity, ::Flux.##62#63, ::CuArray{Bool,2}, ::Array{Any,1}, ::Int64\u001b[1m)\u001b[22m\u001b[22m at \u001b[1m./reduce.jl:43\u001b[22m\u001b[22m",
      " [13] \u001b[1m(::Flux.Chain)\u001b[22m\u001b[22m\u001b[1m(\u001b[22m\u001b[22m::CuArray{Bool,2}\u001b[1m)\u001b[22m\u001b[22m at \u001b[1m/root/.julia/v0.6/Flux/src/layers/basic.jl:31\u001b[22m\u001b[22m",
      " [14] \u001b[1m(::##29#30)\u001b[22m\u001b[22m\u001b[1m(\u001b[22m\u001b[22m::CuArray{Bool,2}, ::CuArray{Bool,2}\u001b[1m)\u001b[22m\u001b[22m at \u001b[1m./<missing>:0\u001b[22m\u001b[22m",
      " [15] \u001b[1mbroadcast_t\u001b[22m\u001b[22m\u001b[1m(\u001b[22m\u001b[22m::Function, ::Type{Any}, ::Tuple{Base.OneTo{Int64}}, ::CartesianRange{CartesianIndex{1}}, ::Array{CuArray{Bool,2},1}, ::Array{CuArray{Bool,2},1}\u001b[1m)\u001b[22m\u001b[22m at \u001b[1m./broadcast.jl:258\u001b[22m\u001b[22m",
      " [16] \u001b[1mbroadcast_c\u001b[22m\u001b[22m at \u001b[1m./broadcast.jl:321\u001b[22m\u001b[22m [inlined]",
      " [17] \u001b[1mbroadcast\u001b[22m\u001b[22m at \u001b[1m./broadcast.jl:455\u001b[22m\u001b[22m [inlined]",
      " [18] \u001b[1mloss\u001b[22m\u001b[22m\u001b[1m(\u001b[22m\u001b[22m::Array{CuArray{Bool,2},1}, ::Array{CuArray{Bool,2},1}\u001b[1m)\u001b[22m\u001b[22m at \u001b[1m./In[71]:2\u001b[22m\u001b[22m",
      " [19] \u001b[1m#train!#130\u001b[22m\u001b[22m\u001b[1m(\u001b[22m\u001b[22m::Flux.Optimise.##131#133, ::Function, ::Function, ::Array{Tuple{Array{CuArray{Bool,2},1},Array{CuArray{Bool,2},1}},1}, ::Flux.Optimise.##71#75\u001b[1m)\u001b[22m\u001b[22m at \u001b[1m/root/.julia/v0.6/Flux/src/optimise/train.jl:29\u001b[22m\u001b[22m",
      " [20] \u001b[1mmacro expansion\u001b[22m\u001b[22m at \u001b[1m./In[76]:7\u001b[22m\u001b[22m [inlined]",
      " [21] \u001b[1mmacro expansion\u001b[22m\u001b[22m at \u001b[1m/root/.julia/v0.6/ProgressMeter/src/ProgressMeter.jl:477\u001b[22m\u001b[22m [inlined]",
      " [22] \u001b[1manonymous\u001b[22m\u001b[22m at \u001b[1m./<missing>:?\u001b[22m\u001b[22m",
      " [23] \u001b[1minclude_string\u001b[22m\u001b[22m\u001b[1m(\u001b[22m\u001b[22m::String, ::String\u001b[1m)\u001b[22m\u001b[22m at \u001b[1m./loading.jl:522\u001b[22m\u001b[22m"
     ]
    }
   ],
   "source": [
    "batch_num = length(y_train)\n",
    "\n",
    "@showprogress 1 \"Training...\" for idx in 1:batch_num\n",
    "    batch_x, batch_y = CuArray.(X_train[idx]), CuArray.(y_train[idx])\n",
    "#     println(typeof(batch_x))\n",
    "    println(\"Batch $(idx)\")\n",
    "    Flux.train!(loss, [(batch_x, batch_y)], opt)\n",
    "end"
   ]
  },
  {
   "cell_type": "code",
   "execution_count": 98,
   "metadata": {},
   "outputs": [
    {
     "ename": "LoadError",
     "evalue": "\u001b[91mBroadcast output type Any is not concrete\u001b[39m",
     "output_type": "error",
     "traceback": [
      "\u001b[91mBroadcast output type Any is not concrete\u001b[39m",
      "",
      "Stacktrace:",
      " [1] \u001b[1mbroadcast_t\u001b[22m\u001b[22m at \u001b[1m/root/.julia/v0.6/CuArrays/src/broadcast.jl:34\u001b[22m\u001b[22m [inlined]",
      " [2] \u001b[1mbroadcast_c\u001b[22m\u001b[22m at \u001b[1m/root/.julia/v0.6/CuArrays/src/broadcast.jl:63\u001b[22m\u001b[22m [inlined]",
      " [3] \u001b[1mbroadcast\u001b[22m\u001b[22m\u001b[1m(\u001b[22m\u001b[22m::Flux.Chain, ::CuArray{Flux.OneHotMatrix{Array{Flux.OneHotVector,1}},1}\u001b[1m)\u001b[22m\u001b[22m at \u001b[1m./broadcast.jl:455\u001b[22m\u001b[22m",
      " [4] \u001b[1minclude_string\u001b[22m\u001b[22m\u001b[1m(\u001b[22m\u001b[22m::String, ::String\u001b[1m)\u001b[22m\u001b[22m at \u001b[1m./loading.jl:522\u001b[22m\u001b[22m"
     ]
    }
   ],
   "source": [
    "model.(cu(X_train[1]))"
   ]
  },
  {
   "cell_type": "code",
   "execution_count": 104,
   "metadata": {},
   "outputs": [
    {
     "data": {
      "text/plain": [
       "68×50 Flux.OneHotMatrix{Array{Flux.OneHotVector,1}}:\n",
       "  true  false  false  false  false  …  false  false  false  false  false\n",
       " false  false  false  false  false     false  false  false  false  false\n",
       " false  false  false  false  false     false  false  false   true  false\n",
       " false  false  false  false   true     false   true   true  false  false\n",
       " false  false  false  false  false      true  false  false  false  false\n",
       " false  false  false  false  false  …  false  false  false  false  false\n",
       " false  false  false  false  false     false  false  false  false  false\n",
       " false  false  false  false  false     false  false  false  false  false\n",
       " false   true  false  false  false     false  false  false  false   true\n",
       " false  false  false  false  false     false  false  false  false  false\n",
       " false  false  false  false  false  …  false  false  false  false  false\n",
       " false  false  false  false  false     false  false  false  false  false\n",
       " false  false  false  false  false     false  false  false  false  false\n",
       "     ⋮                              ⋱      ⋮                            \n",
       " false  false  false  false  false     false  false  false  false  false\n",
       " false  false  false  false  false     false  false  false  false  false\n",
       " false  false  false  false  false     false  false  false  false  false\n",
       " false  false  false  false  false     false  false  false  false  false\n",
       " false  false  false  false  false  …  false  false  false  false  false\n",
       " false  false  false  false  false     false  false  false  false  false\n",
       " false  false  false  false  false     false  false  false  false  false\n",
       " false  false  false  false  false     false  false  false  false  false\n",
       " false  false  false  false  false     false  false  false  false  false\n",
       " false  false  false  false  false  …  false  false  false  false  false\n",
       " false  false  false  false  false     false  false  false  false  false\n",
       " false  false  false  false  false     false  false  false  false  false"
      ]
     },
     "execution_count": 104,
     "metadata": {},
     "output_type": "execute_result"
    }
   ],
   "source": [
    "(X_train[1][1])"
   ]
  },
  {
   "cell_type": "code",
   "execution_count": 118,
   "metadata": {},
   "outputs": [
    {
     "ename": "LoadError",
     "evalue": "\u001b[91mArrays type contains pointer - this doesn't work on the GPU (So arrays that don't contain pointers to memory, e.g. UnitRanges, would work).\n            Try converting it to a gpu array. Found: BitArray{2}\u001b[39m",
     "output_type": "error",
     "traceback": [
      "\u001b[91mArrays type contains pointer - this doesn't work on the GPU (So arrays that don't contain pointers to memory, e.g. UnitRanges, would work).\n            Try converting it to a gpu array. Found: BitArray{2}\u001b[39m",
      "",
      "Stacktrace:",
      " [1] \u001b[1marg_length\u001b[22m\u001b[22m\u001b[1m(\u001b[22m\u001b[22m::BitArray{2}\u001b[1m)\u001b[22m\u001b[22m at \u001b[1m/root/.julia/v0.6/GPUArrays/src/broadcast.jl:109\u001b[22m\u001b[22m",
      " [2] \u001b[1mGPUArrays.BInfo\u001b[22m\u001b[22m\u001b[1m(\u001b[22m\u001b[22m::BitArray{2}, ::Tuple{Bool,Bool}, ::Tuple{Int64,Int64}\u001b[1m)\u001b[22m\u001b[22m at \u001b[1m/root/.julia/v0.6/GPUArrays/src/broadcast.jl:128\u001b[22m\u001b[22m",
      " [3] \u001b[1mntuple\u001b[22m\u001b[22m\u001b[1m(\u001b[22m\u001b[22m::GPUArrays.##21#22{Tuple{Tuple{Bool},Tuple{Bool,Bool}},Tuple{Tuple{Int64},Tuple{Int64,Int64}},Tuple{CuArray{ForwardDiff.Dual{Void,Float32,2},1},BitArray{2}}}, ::Int64\u001b[1m)\u001b[22m\u001b[22m at \u001b[1m./tuple.jl:108\u001b[22m\u001b[22m",
      " [4] \u001b[1m_broadcast!\u001b[22m\u001b[22m\u001b[1m(\u001b[22m\u001b[22m::Function, ::CuArray{ForwardDiff.Dual{Void,Float32,2},2}, ::Tuple{Tuple{Bool},Tuple{Bool,Bool}}, ::Tuple{Tuple{Int64},Tuple{Int64,Int64}}, ::CuArray{ForwardDiff.Dual{Void,Float32,2},1}, ::Tuple{BitArray{2}}, ::Type{Val{1}}, ::CartesianRange{CartesianIndex{2}}\u001b[1m)\u001b[22m\u001b[22m at \u001b[1m/root/.julia/v0.6/GPUArrays/src/broadcast.jl:86\u001b[22m\u001b[22m",
      " [5] \u001b[1mbroadcast_t\u001b[22m\u001b[22m\u001b[1m(\u001b[22m\u001b[22m::Function, ::Type{ForwardDiff.Dual{Void,Float32,2}}, ::Tuple{Base.OneTo{Int64},Base.OneTo{Int64}}, ::CartesianRange{CartesianIndex{2}}, ::CuArray{ForwardDiff.Dual{Void,Float32,2},1}, ::BitArray{2}\u001b[1m)\u001b[22m\u001b[22m at \u001b[1m/root/.julia/v0.6/GPUArrays/src/broadcast.jl:49\u001b[22m\u001b[22m",
      " [6] \u001b[1mbroadcast_c\u001b[22m\u001b[22m at \u001b[1m./broadcast.jl:316\u001b[22m\u001b[22m [inlined]",
      " [7] \u001b[1mbroadcast\u001b[22m\u001b[22m at \u001b[1m./broadcast.jl:455\u001b[22m\u001b[22m [inlined]",
      " [8] \u001b[1mtracked_broadcast\u001b[22m\u001b[22m\u001b[1m(\u001b[22m\u001b[22m::Function, ::TrackedArray{…,CuArray{Float32,1}}, ::BitArray{2}\u001b[1m)\u001b[22m\u001b[22m at \u001b[1m/root/.julia/v0.6/Flux/src/tracker/lib.jl:177\u001b[22m\u001b[22m",
      " [9] \u001b[1mcombine\u001b[22m\u001b[22m\u001b[1m(\u001b[22m\u001b[22m::Flux.OneHotMatrix{CuArray{Flux.OneHotVector,1}}, ::TrackedArray{…,CuArray{Float32,1}}\u001b[1m)\u001b[22m\u001b[22m at \u001b[1m/root/.julia/v0.6/Flux/src/layers/recurrent.jl:2\u001b[22m\u001b[22m",
      " [10] \u001b[1m(::Flux.LSTMCell{Flux.Dense{NNlib.#σ,TrackedArray{…,CuArray{Float32,2}},TrackedArray{…,CuArray{Float32,1}}},Flux.Dense{Base.#tanh,TrackedArray{…,CuArray{Float32,2}},TrackedArray{…,CuArray{Float32,1}}},TrackedArray{…,CuArray{Float32,1}}})\u001b[22m\u001b[22m\u001b[1m(\u001b[22m\u001b[22m::Tuple{TrackedArray{…,CuArray{Float32,1}},TrackedArray{…,CuArray{Float32,1}}}, ::Flux.OneHotMatrix{CuArray{Flux.OneHotVector,1}}\u001b[1m)\u001b[22m\u001b[22m at \u001b[1m/root/.julia/v0.6/Flux/src/layers/recurrent.jl:126\u001b[22m\u001b[22m",
      " [11] \u001b[1m(::Flux.Recur{Flux.LSTMCell{Flux.Dense{NNlib.#σ,TrackedArray{…,CuArray{Float32,2}},TrackedArray{…,CuArray{Float32,1}}},Flux.Dense{Base.#tanh,TrackedArray{…,CuArray{Float32,2}},TrackedArray{…,CuArray{Float32,1}}},TrackedArray{…,CuArray{Float32,1}}}})\u001b[22m\u001b[22m\u001b[1m(\u001b[22m\u001b[22m::Flux.OneHotMatrix{CuArray{Flux.OneHotVector,1}}, ::Vararg{Flux.OneHotMatrix{CuArray{Flux.OneHotVector,1}},N} where N\u001b[1m)\u001b[22m\u001b[22m at \u001b[1m/root/.julia/v0.6/Flux/src/layers/recurrent.jl:37\u001b[22m\u001b[22m",
      " [12] \u001b[1mmapfoldl_impl\u001b[22m\u001b[22m\u001b[1m(\u001b[22m\u001b[22m::Base.#identity, ::Flux.##62#63, ::Flux.OneHotMatrix{CuArray{Flux.OneHotVector,1}}, ::Array{Any,1}, ::Int64\u001b[1m)\u001b[22m\u001b[22m at \u001b[1m./reduce.jl:43\u001b[22m\u001b[22m",
      " [13] \u001b[1m(::Flux.Chain)\u001b[22m\u001b[22m\u001b[1m(\u001b[22m\u001b[22m::Flux.OneHotMatrix{CuArray{Flux.OneHotVector,1}}\u001b[1m)\u001b[22m\u001b[22m at \u001b[1m/root/.julia/v0.6/Flux/src/layers/basic.jl:31\u001b[22m\u001b[22m",
      " [14] \u001b[1minclude_string\u001b[22m\u001b[22m\u001b[1m(\u001b[22m\u001b[22m::String, ::String\u001b[1m)\u001b[22m\u001b[22m at \u001b[1m./loading.jl:522\u001b[22m\u001b[22m"
     ]
    }
   ],
   "source": [
    "model(cu(X_train[1][1]))"
   ]
  },
  {
   "cell_type": "code",
   "execution_count": null,
   "metadata": {},
   "outputs": [],
   "source": []
  }
 ],
 "metadata": {
  "kernelspec": {
   "display_name": "Julia 0.6.2",
   "language": "julia",
   "name": "julia-0.6"
  },
  "language_info": {
   "file_extension": ".jl",
   "mimetype": "application/julia",
   "name": "julia",
   "version": "0.6.2"
  }
 },
 "nbformat": 4,
 "nbformat_minor": 2
}
