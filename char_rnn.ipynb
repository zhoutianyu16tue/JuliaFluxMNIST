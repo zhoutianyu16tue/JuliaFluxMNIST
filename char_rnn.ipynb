{
 "cells": [
  {
   "cell_type": "code",
   "execution_count": 4,
   "metadata": {
    "collapsed": false
   },
   "outputs": [],
   "source": [
    "using Flux\n",
    "using Flux: onehot, argmax, chunk, batchseq, throttle, crossentropy\n",
    "using StatsBase: wsample\n",
    "using Base.Iterators: partition"
   ]
  },
  {
   "cell_type": "code",
   "execution_count": 7,
   "metadata": {
    "collapsed": false
   },
   "outputs": [
    {
     "data": {
      "text/plain": [
       "true"
      ]
     },
     "execution_count": 7,
     "metadata": {},
     "output_type": "execute_result"
    }
   ],
   "source": [
    "# Download the dataset\n",
    "isfile(\"input.txt\") ||\n",
    "  download(\"http://cs.stanford.edu/people/karpathy/char-rnn/shakespeare_input.txt\",\n",
    "           \"input.txt\")"
   ]
  },
  {
   "cell_type": "code",
   "execution_count": 16,
   "metadata": {
    "collapsed": false
   },
   "outputs": [
    {
     "name": "stdout",
     "output_type": "stream",
     "text": [
      "search: \u001b[1mc\u001b[22m\u001b[1mo\u001b[22m\u001b[1ml\u001b[22m\u001b[1ml\u001b[22m\u001b[1me\u001b[22m\u001b[1mc\u001b[22m\u001b[1mt\u001b[22m \u001b[1mC\u001b[22m\u001b[1mo\u001b[22m\u001b[1ml\u001b[22m\u001b[1ml\u001b[22m\u001b[1me\u001b[22m\u001b[1mc\u001b[22m\u001b[1mt\u001b[22mions\n",
      "\n"
     ]
    },
    {
     "data": {
      "text/markdown": [
       "```\n",
       "collect(element_type, collection)\n",
       "```\n",
       "\n",
       "Return an `Array` with the given element type of all items in a collection or iterable. The result has the same shape and number of dimensions as `collection`.\n",
       "\n",
       "```jldoctest\n",
       "julia> collect(Float64, 1:2:5)\n",
       "3-element Array{Float64,1}:\n",
       " 1.0\n",
       " 3.0\n",
       " 5.0\n",
       "```\n",
       "\n",
       "```\n",
       "collect(collection)\n",
       "```\n",
       "\n",
       "Return an `Array` of all items in a collection or iterator. For associative collections, returns `Pair{KeyType, ValType}`. If the argument is array-like or is an iterator with the `HasShape()` trait, the result will have the same shape and number of dimensions as the argument.\n",
       "\n",
       "# Example\n",
       "\n",
       "```jldoctest\n",
       "julia> collect(1:2:13)\n",
       "7-element Array{Int64,1}:\n",
       "  1\n",
       "  3\n",
       "  5\n",
       "  7\n",
       "  9\n",
       " 11\n",
       " 13\n",
       "```\n"
      ],
      "text/plain": [
       "```\n",
       "collect(element_type, collection)\n",
       "```\n",
       "\n",
       "Return an `Array` with the given element type of all items in a collection or iterable. The result has the same shape and number of dimensions as `collection`.\n",
       "\n",
       "```jldoctest\n",
       "julia> collect(Float64, 1:2:5)\n",
       "3-element Array{Float64,1}:\n",
       " 1.0\n",
       " 3.0\n",
       " 5.0\n",
       "```\n",
       "\n",
       "```\n",
       "collect(collection)\n",
       "```\n",
       "\n",
       "Return an `Array` of all items in a collection or iterator. For associative collections, returns `Pair{KeyType, ValType}`. If the argument is array-like or is an iterator with the `HasShape()` trait, the result will have the same shape and number of dimensions as the argument.\n",
       "\n",
       "# Example\n",
       "\n",
       "```jldoctest\n",
       "julia> collect(1:2:13)\n",
       "7-element Array{Int64,1}:\n",
       "  1\n",
       "  3\n",
       "  5\n",
       "  7\n",
       "  9\n",
       " 11\n",
       " 13\n",
       "```\n"
      ]
     },
     "execution_count": 16,
     "metadata": {},
     "output_type": "execute_result"
    }
   ],
   "source": [
    "?collect"
   ]
  },
  {
   "cell_type": "code",
   "execution_count": 21,
   "metadata": {
    "collapsed": false
   },
   "outputs": [
    {
     "data": {
      "text/plain": [
       "68-element Array{Char,1}:\n",
       " 'F' \n",
       " 'i' \n",
       " 'r' \n",
       " 's' \n",
       " 't' \n",
       " ' ' \n",
       " 'C' \n",
       " 'z' \n",
       " 'e' \n",
       " 'n' \n",
       " ':' \n",
       " '\\n'\n",
       " 'B' \n",
       " ⋮   \n",
       " 'J' \n",
       " 'G' \n",
       " 'K' \n",
       " 'Q' \n",
       " '&' \n",
       " 'Z' \n",
       " 'X' \n",
       " '3' \n",
       " '$' \n",
       " '[' \n",
       " ']' \n",
       " '_' "
      ]
     },
     "execution_count": 21,
     "metadata": {},
     "output_type": "execute_result"
    }
   ],
   "source": [
    "text = collect(readstring(\"input.txt\"))\n",
    "alphabet = [unique(text)..., '_']"
   ]
  },
  {
   "cell_type": "code",
   "execution_count": 20,
   "metadata": {
    "collapsed": false
   },
   "outputs": [
    {
     "name": "stdout",
     "output_type": "stream",
     "text": [
      "\n",
      " !$&',-.3:;?ABCDEFGHIJKLMNOPQRSTUVWXYZ[]abcdefghijklmnopqrstuvwxyz"
     ]
    }
   ],
   "source": [
    "for c in sort(unique(text))\n",
    "    print(c)\n",
    "end"
   ]
  },
  {
   "cell_type": "code",
   "execution_count": 23,
   "metadata": {
    "collapsed": false,
    "scrolled": true
   },
   "outputs": [
    {
     "data": {
      "text/plain": [
       "4573338-element Array{Flux.OneHotVector,1}:\n",
       " Bool[true, false, false, false, false, false, false, false, false, false  …  false, false, false, false, false, false, false, false, false, false] \n",
       " Bool[false, true, false, false, false, false, false, false, false, false  …  false, false, false, false, false, false, false, false, false, false] \n",
       " Bool[false, false, true, false, false, false, false, false, false, false  …  false, false, false, false, false, false, false, false, false, false] \n",
       " Bool[false, false, false, true, false, false, false, false, false, false  …  false, false, false, false, false, false, false, false, false, false] \n",
       " Bool[false, false, false, false, true, false, false, false, false, false  …  false, false, false, false, false, false, false, false, false, false] \n",
       " Bool[false, false, false, false, false, true, false, false, false, false  …  false, false, false, false, false, false, false, false, false, false] \n",
       " Bool[false, false, false, false, false, false, true, false, false, false  …  false, false, false, false, false, false, false, false, false, false] \n",
       " Bool[false, true, false, false, false, false, false, false, false, false  …  false, false, false, false, false, false, false, false, false, false] \n",
       " Bool[false, false, false, false, true, false, false, false, false, false  …  false, false, false, false, false, false, false, false, false, false] \n",
       " Bool[false, true, false, false, false, false, false, false, false, false  …  false, false, false, false, false, false, false, false, false, false] \n",
       " Bool[false, false, false, false, false, false, false, true, false, false  …  false, false, false, false, false, false, false, false, false, false] \n",
       " Bool[false, false, false, false, false, false, false, false, true, false  …  false, false, false, false, false, false, false, false, false, false] \n",
       " Bool[false, false, false, false, false, false, false, false, false, true  …  false, false, false, false, false, false, false, false, false, false] \n",
       " ⋮                                                                                                                                                  \n",
       " Bool[false, false, false, false, true, false, false, false, false, false  …  false, false, false, false, false, false, false, false, false, false] \n",
       " Bool[false, false, false, false, false, true, false, false, false, false  …  false, false, false, false, false, false, false, false, false, false] \n",
       " Bool[false, false, false, false, false, false, false, false, false, false  …  false, false, false, false, false, false, false, false, false, false]\n",
       " Bool[false, false, false, false, false, false, false, false, false, false  …  false, false, false, false, false, false, false, false, false, false]\n",
       " Bool[false, false, false, false, true, false, false, false, false, false  …  false, false, false, false, false, false, false, false, false, false] \n",
       " Bool[false, false, false, false, false, true, false, false, false, false  …  false, false, false, false, false, false, false, false, false, false] \n",
       " Bool[false, false, false, false, true, false, false, false, false, false  …  false, false, false, false, false, false, false, false, false, false] \n",
       " Bool[false, false, true, false, false, false, false, false, false, false  …  false, false, false, false, false, false, false, false, false, false] \n",
       " Bool[false, false, false, false, false, false, false, false, false, false  …  false, false, false, false, false, false, false, false, false, false]\n",
       " Bool[false, false, false, false, false, false, false, false, true, false  …  false, false, false, false, false, false, false, false, false, false] \n",
       " Bool[false, false, false, false, false, false, false, false, false, false  …  false, false, false, false, false, false, false, false, false, false]\n",
       " Bool[false, false, false, false, false, false, false, false, false, false  …  false, false, false, false, false, false, false, false, false, false]"
      ]
     },
     "execution_count": 23,
     "metadata": {},
     "output_type": "execute_result"
    }
   ],
   "source": [
    "text = map(ch -> onehot(ch, alphabet), text)"
   ]
  },
  {
   "cell_type": "code",
   "execution_count": 26,
   "metadata": {
    "collapsed": false
   },
   "outputs": [
    {
     "data": {
      "text/plain": [
       "68-element Flux.OneHotVector:\n",
       " false\n",
       " false\n",
       " false\n",
       " false\n",
       " false\n",
       " false\n",
       " false\n",
       " false\n",
       " false\n",
       " false\n",
       " false\n",
       " false\n",
       " false\n",
       "     ⋮\n",
       " false\n",
       " false\n",
       " false\n",
       " false\n",
       " false\n",
       " false\n",
       " false\n",
       " false\n",
       " false\n",
       " false\n",
       " false\n",
       "  true"
      ]
     },
     "execution_count": 26,
     "metadata": {},
     "output_type": "execute_result"
    }
   ],
   "source": [
    "stop = onehot('_', alphabet)"
   ]
  },
  {
   "cell_type": "code",
   "execution_count": 27,
   "metadata": {
    "collapsed": false
   },
   "outputs": [
    {
     "data": {
      "text/plain": [
       "50"
      ]
     },
     "execution_count": 27,
     "metadata": {},
     "output_type": "execute_result"
    }
   ],
   "source": [
    "N = length(alphabet)\n",
    "seqlen = 50\n",
    "nbatch = 50"
   ]
  },
  {
   "cell_type": "code",
   "execution_count": 28,
   "metadata": {
    "collapsed": false
   },
   "outputs": [
    {
     "data": {
      "text/plain": [
       "1830-element Array{Array{Flux.OneHotMatrix{Array{Flux.OneHotVector,1}},1},1}:\n",
       " Flux.OneHotMatrix{Array{Flux.OneHotVector,1}}[Bool[false false … false false; true false … false false; … ; false false … false false; false false … false false], Bool[false false … false false; false false … false false; … ; false false … false false; false false … false false], Bool[false false … false false; false false … false false; … ; false false … false false; false false … false false], Bool[false false … false false; false false … false false; … ; false false … false false; false false … false false], Bool[false false … false false; false false … false false; … ; false false … false false; false false … false false], Bool[false false … false false; false false … false false; … ; false false … false false; false false … false false], Bool[false false … false false; true false … false false; … ; false false … false false; false false … false false], Bool[false false … false false; false false … false true; … ; false false … false false; false false … false false], Bool[false false … false false; true false … false false; … ; false false … false false; false false … false false], Bool[false false … false false; false false … false false; … ; false false … false false; false false … false false]  …  Bool[false false … false false; false false … false false; … ; false false … false false; false false … false false], Bool[false false … false false; false false … false false; … ; false false … false false; false false … false false], Bool[false false … false false; false false … false false; … ; false false … false false; false false … false false], Bool[false false … false false; false false … false false; … ; false false … false false; false false … false false], Bool[false false … false false; false false … false false; … ; false false … false false; false false … false false], Bool[false false … false false; false false … false false; … ; false false … false false; false false … false false], Bool[false false … false false; false false … true false; … ; false false … false false; false false … false false], Bool[false false … false false; false false … false false; … ; false false … false false; false false … false false], Bool[false false … false false; false false … false false; … ; false false … false false; false false … false false], Bool[false false … false false; false false … false false; … ; false false … false false; false false … false false]]     \n",
       " Flux.OneHotMatrix{Array{Flux.OneHotVector,1}}[Bool[false false … false false; false false … false false; … ; false false … false false; false false … false false], Bool[false false … false false; false false … false false; … ; false false … false false; false false … false false], Bool[false false … false false; false false … false false; … ; false false … false false; false false … false false], Bool[false false … false false; false false … false false; … ; false false … false false; false false … false false], Bool[false false … false false; false false … false false; … ; false false … false false; false false … false false], Bool[false false … false false; false false … false false; … ; false false … false false; false false … false false], Bool[false false … false false; false false … false false; … ; false false … false false; false false … false false], Bool[false false … false true; false false … false false; … ; false false … false false; false false … false false], Bool[false false … false false; false false … false false; … ; false false … false false; false false … false false], Bool[false false … false false; false false … false false; … ; false false … false false; false false … false false]  …  Bool[false false … false false; true false … false false; … ; false false … false false; false false … false false], Bool[false false … false false; false false … false false; … ; false false … false false; false false … false false], Bool[false false … false false; false false … false false; … ; false false … false false; false false … false false], Bool[false false … false false; false false … false false; … ; false false … false false; false false … false false], Bool[false false … false false; false false … false false; … ; false false … false false; false false … false false], Bool[false false … false false; false false … false false; … ; false false … false false; false false … false false], Bool[false false … false false; false false … false false; … ; false false … false false; false false … false false], Bool[false false … false false; false false … true false; … ; false false … false false; false false … false false], Bool[false false … false false; false false … false false; … ; false false … false false; false false … false false], Bool[false false … false false; false false … false false; … ; false false … false false; false false … false false]]   \n",
       " Flux.OneHotMatrix{Array{Flux.OneHotVector,1}}[Bool[false false … false false; false false … false false; … ; false false … false false; false false … false false], Bool[false false … false false; false false … false false; … ; false false … false false; false false … false false], Bool[false false … false false; false false … false false; … ; false false … false false; false false … false false], Bool[false false … false false; false false … false true; … ; false false … false false; false false … false false], Bool[false false … false false; false false … false false; … ; false false … false false; false false … false false], Bool[false false … false false; false false … false false; … ; false false … false false; false false … false false], Bool[false false … false false; false false … false false; … ; false false … false false; false false … false false], Bool[false false … false false; false false … false false; … ; false false … false false; false false … false false], Bool[false false … false false; false false … false false; … ; false false … false false; false false … false false], Bool[false false … false false; false false … false false; … ; false false … false false; false false … false false]  …  Bool[false false … false false; false false … false false; … ; false false … false false; false false … false false], Bool[false false … false false; false false … false false; … ; false false … false false; false false … false false], Bool[false false … false false; true false … false false; … ; false false … false false; false false … false false], Bool[false false … false false; false false … false false; … ; false false … false false; false false … false false], Bool[false false … false false; false false … false false; … ; false false … false false; false false … false false], Bool[false false … false false; false true … false false; … ; false false … false false; false false … false false], Bool[false false … false false; false false … true true; … ; false false … false false; false false … false false], Bool[false false … false false; false false … false false; … ; false false … false false; false false … false false], Bool[false false … false false; false false … false false; … ; false false … false false; false false … false false], Bool[false false … false false; false false … false false; … ; false false … false false; false false … false false]]     \n",
       " Flux.OneHotMatrix{Array{Flux.OneHotVector,1}}[Bool[false false … false false; false false … false false; … ; false false … false false; false false … false false], Bool[false false … false false; false false … false false; … ; false false … false false; false false … false false], Bool[false false … false false; false false … false false; … ; false false … false false; false false … false false], Bool[false false … false false; false false … false false; … ; false false … false false; false false … false false], Bool[false false … false false; false false … false false; … ; false false … false false; false false … false false], Bool[false false … false false; false false … false false; … ; false false … false false; false false … false false], Bool[false false … false false; false true … false false; … ; false false … false false; false false … false false], Bool[false false … false false; false false … false false; … ; false false … false false; false false … false false], Bool[false false … false false; false false … false false; … ; false false … false false; false false … false false], Bool[false false … false false; false false … false false; … ; false false … false false; false false … false false]  …  Bool[false true … false false; true false … false true; … ; false false … false false; false false … false false], Bool[false false … false false; false true … false false; … ; false false … false false; false false … false false], Bool[false false … false false; false false … false false; … ; false false … false false; false false … false false], Bool[false false … false false; false false … false false; … ; false false … false false; false false … false false], Bool[false false … false false; false false … false false; … ; false false … false false; false false … false false], Bool[false false … false false; false false … false false; … ; false false … false false; false false … false false], Bool[false false … false false; false false … false false; … ; false false … false false; false false … false false], Bool[false false … false false; false false … false false; … ; false false … false false; false false … false false], Bool[false false … false false; false false … false false; … ; false false … false false; false false … false false], Bool[false false … false false; false false … false false; … ; false false … false false; false false … false false]]     \n",
       " Flux.OneHotMatrix{Array{Flux.OneHotVector,1}}[Bool[false false … false false; false false … false false; … ; false false … false false; false false … false false], Bool[false false … false false; false false … false true; … ; false false … false false; false false … false false], Bool[false false … false false; false false … false false; … ; false false … false false; false false … false false], Bool[false false … false false; false false … false false; … ; false false … false false; false false … false false], Bool[false false … false false; false false … false false; … ; false false … false false; false false … false false], Bool[false false … false false; false false … false false; … ; false false … false false; false false … false false], Bool[false false … false false; false false … false false; … ; false false … false false; false false … false false], Bool[false false … false false; true false … false false; … ; false false … false false; false false … false false], Bool[false false … false false; false false … false false; … ; false false … false false; false false … false false], Bool[false false … false false; false false … false false; … ; false false … false false; false false … false false]  …  Bool[false false … false false; false false … false false; … ; false false … false false; false false … false false], Bool[false false … false false; false false … false false; … ; false false … false false; false false … false false], Bool[false false … false false; false false … false false; … ; false false … false false; false false … false false], Bool[false false … false false; false false … false false; … ; false false … false false; false false … false false], Bool[false false … false false; false false … false false; … ; false false … false false; false false … false false], Bool[false false … false false; false false … false false; … ; false false … false false; false false … false false], Bool[false false … false false; false false … false false; … ; false false … false false; false false … false false], Bool[false false … false false; false false … false true; … ; false false … false false; false false … false false], Bool[false false … false false; false false … false false; … ; false false … false false; false false … false false], Bool[false false … false false; false false … false false; … ; false false … false false; false false … false false]]   \n",
       " Flux.OneHotMatrix{Array{Flux.OneHotVector,1}}[Bool[false false … false false; false false … false false; … ; false false … false false; false false … false false], Bool[false false … false false; false false … false false; … ; false false … false false; false false … false false], Bool[false false … false false; false false … false false; … ; false false … false false; false false … false false], Bool[false false … false false; false false … false false; … ; false false … false false; false false … false false], Bool[false false … false false; false false … false true; … ; false false … false false; false false … false false], Bool[false false … false false; false false … false false; … ; false false … false false; false false … false false], Bool[false false … false false; false false … false true; … ; false false … false false; false false … false false], Bool[false false … false false; false false … false false; … ; false false … false false; false false … false false], Bool[false false … false false; false false … false false; … ; false false … false false; false false … false false], Bool[false false … false false; false false … false false; … ; false false … false false; false false … false false]  …  Bool[false false … false false; false false … false false; … ; false false … false false; false false … false false], Bool[false false … false false; false false … false false; … ; false false … false false; false false … false false], Bool[false false … false false; false false … false false; … ; false false … false false; false false … false false], Bool[false false … false false; false false … false false; … ; false false … false false; false false … false false], Bool[false false … false false; false false … false false; … ; false false … false false; false false … false false], Bool[false false … false false; false false … false false; … ; false false … false false; false false … false false], Bool[false false … false false; false false … false false; … ; false false … false false; false false … false false], Bool[false false … false false; false false … false false; … ; false false … false false; false false … false false], Bool[false false … false false; false false … false false; … ; false false … false false; false false … false false], Bool[false false … false false; false false … false false; … ; false false … false false; false false … false false]]  \n",
       " Flux.OneHotMatrix{Array{Flux.OneHotVector,1}}[Bool[false false … false false; false true … false false; … ; false false … false false; false false … false false], Bool[false false … false false; true false … false false; … ; false false … false false; false false … false false], Bool[false false … false false; false false … false false; … ; false false … false false; false false … false false], Bool[false false … false false; false false … false false; … ; false false … false false; false false … false false], Bool[false false … false false; false false … false false; … ; false false … false false; false false … false false], Bool[false false … false false; false false … false false; … ; false false … false false; false false … false false], Bool[false false … false false; true false … false false; … ; false false … false false; false false … false false], Bool[false false … false false; false false … false false; … ; false false … false false; false false … false false], Bool[false false … false false; false false … false true; … ; false false … false false; false false … false false], Bool[false false … false false; false false … false false; … ; false false … false false; false false … false false]  …  Bool[false false … false false; false false … false false; … ; false false … false false; false false … false false], Bool[false false … false false; false false … false false; … ; false false … false false; false false … false false], Bool[false false … false false; false false … false false; … ; false false … false false; false false … false false], Bool[false false … false false; true false … false false; … ; false false … false false; false false … false false], Bool[false false … false false; false false … false false; … ; false false … false false; false false … false false], Bool[false false … true false; false false … false false; … ; false false … false false; false false … false false], Bool[false false … false false; false false … false false; … ; false false … false false; false false … false false], Bool[false false … false false; false false … false false; … ; false false … false false; false false … false false], Bool[false false … false false; false false … false false; … ; false false … false false; false false … false false], Bool[false false … false false; false false … false false; … ; false false … false false; false false … false false]]      \n",
       " Flux.OneHotMatrix{Array{Flux.OneHotVector,1}}[Bool[false false … false false; false false … false false; … ; false false … false false; false false … false false], Bool[false false … false false; false false … false false; … ; false false … false false; false false … false false], Bool[false false … false false; false false … false true; … ; false false … false false; false false … false false], Bool[false false … false false; false false … false false; … ; false false … false false; false false … false false], Bool[false false … false false; false false … false false; … ; false false … false false; false false … false false], Bool[false false … false false; false false … false false; … ; false false … false false; false false … false false], Bool[false false … false false; false false … false false; … ; false false … false false; false false … false false], Bool[false false … false false; false false … false false; … ; false false … false false; false false … false false], Bool[false false … false false; false false … false false; … ; false false … false false; false false … false false], Bool[false false … false false; true false … false false; … ; false false … false false; false false … false false]  …  Bool[false false … false false; false false … false false; … ; false false … false false; false false … false false], Bool[false false … false false; false false … false false; … ; false false … false false; false false … false false], Bool[false false … false false; false false … false false; … ; false false … false false; false false … false false], Bool[false false … false false; false false … false false; … ; false false … false false; false false … false false], Bool[false false … false false; false false … false false; … ; false false … false false; false false … false false], Bool[false false … false false; false false … false false; … ; false false … false false; false false … false false], Bool[false false … false false; true false … false false; … ; false false … false false; false false … false false], Bool[false false … false false; false true … false false; … ; false false … false false; false false … false false], Bool[false false … false false; false false … false false; … ; false false … false false; false false … false false], Bool[false false … false false; false false … true false; … ; false false … false false; false false … false false]]     \n",
       " Flux.OneHotMatrix{Array{Flux.OneHotVector,1}}[Bool[false false … false false; false false … false false; … ; false false … false false; false false … false false], Bool[false false … false false; false false … false false; … ; false false … false false; false false … false false], Bool[false false … false false; false false … false false; … ; false false … false false; false false … false false], Bool[false false … false false; false false … false false; … ; false false … false false; false false … false false], Bool[false false … false false; false false … false false; … ; false false … false false; false false … false false], Bool[false false … false false; false false … false false; … ; false false … false false; false false … false false], Bool[false false … false false; false false … false false; … ; false false … false false; false false … false false], Bool[false false … false false; false false … false false; … ; false false … false false; false false … false false], Bool[false false … false false; false false … false false; … ; false false … false false; false false … false false], Bool[false false … false false; false false … false false; … ; false false … false false; false false … false false]  …  Bool[false false … false false; false false … false false; … ; false false … false false; false false … false false], Bool[false false … false false; false false … false false; … ; false false … false false; false false … false false], Bool[false false … false false; false false … false false; … ; false false … false false; false false … false false], Bool[false false … false false; false false … false false; … ; false false … false false; false false … false false], Bool[false false … false false; false false … false false; … ; false false … false false; false false … false false], Bool[false false … false false; false false … false false; … ; false false … false false; false false … false false], Bool[false false … false false; false false … false false; … ; false false … false false; false false … false false], Bool[false false … false false; false false … false false; … ; false false … false false; false false … false false], Bool[false false … false false; false false … false false; … ; false false … false false; false false … false false], Bool[false false … false false; false false … false false; … ; false false … false false; false false … false false]]\n",
       " Flux.OneHotMatrix{Array{Flux.OneHotVector,1}}[Bool[false false … false false; false false … false false; … ; false false … false false; false false … false false], Bool[false false … false false; false false … false false; … ; false false … false false; false false … false false], Bool[false false … false false; false false … false false; … ; false false … false false; false false … false false], Bool[false false … false false; true false … false false; … ; false false … false false; false false … false false], Bool[false false … false false; false false … false false; … ; false false … false false; false false … false false], Bool[false false … false false; true false … false false; … ; false false … false false; false false … false false], Bool[false false … false false; false false … false false; … ; false false … false false; false false … false false], Bool[false false … false false; false false … false false; … ; false false … false false; false false … false false], Bool[false false … false false; false false … false false; … ; false false … false false; false false … false false], Bool[false false … false false; false false … false false; … ; false false … false false; false false … false false]  …  Bool[false false … false false; false false … false false; … ; false false … false false; false false … false false], Bool[false false … false false; false false … false false; … ; false false … false false; false false … false false], Bool[false false … false false; false false … false false; … ; false false … false false; false false … false false], Bool[false false … false false; false false … false false; … ; false false … false false; false false … false false], Bool[false false … false false; false false … false false; … ; false false … false false; false false … false false], Bool[false false … false false; false false … false false; … ; false false … false false; false false … false false], Bool[false false … false false; false false … false false; … ; false false … false false; false false … false false], Bool[false false … false false; false false … false false; … ; false false … false false; false false … false false], Bool[false false … false false; false false … false false; … ; false false … false false; false false … false false], Bool[false false … false false; false false … false false; … ; false false … false false; false false … false false]]  \n",
       " Flux.OneHotMatrix{Array{Flux.OneHotVector,1}}[Bool[false false … false false; false false … false false; … ; false false … false false; false false … false false], Bool[false false … false false; true false … false true; … ; false false … false false; false false … false false], Bool[false false … false false; false false … false false; … ; false false … false false; false false … false false], Bool[false false … false false; true false … false false; … ; false false … false false; false false … false false], Bool[false false … false false; false false … false false; … ; false false … false false; false false … false false], Bool[false false … false false; false false … false false; … ; false false … false false; false false … false false], Bool[false false … false false; false false … false false; … ; false false … false false; false false … false false], Bool[false false … false false; false false … false false; … ; false false … false false; false false … false false], Bool[false false … false false; false false … false false; … ; false false … false false; false false … false false], Bool[false false … false false; false false … false false; … ; false false … false false; false false … false false]  …  Bool[false false … false false; false false … false false; … ; false false … false false; false false … false false], Bool[false false … false false; false false … false false; … ; false false … false false; false false … false false], Bool[false false … false false; true false … false false; … ; false false … false false; false false … false false], Bool[false false … false false; false false … false false; … ; false false … false false; false false … false false], Bool[false false … false false; false false … false false; … ; false false … false false; false false … false false], Bool[false false … false false; false false … false false; … ; false false … false false; false false … false false], Bool[false false … false false; false false … false true; … ; false false … false false; false false … false false], Bool[false false … false false; false false … false false; … ; false false … false false; false false … false false], Bool[false false … false false; false false … false false; … ; false false … false false; false false … false false], Bool[false false … false false; false false … false false; … ; false false … false false; false false … false false]]     \n",
       " Flux.OneHotMatrix{Array{Flux.OneHotVector,1}}[Bool[false false … false false; false false … false false; … ; false false … false false; false false … false false], Bool[false false … false false; true false … false false; … ; false false … false false; false false … false false], Bool[false false … false false; false false … false false; … ; false false … false false; false false … false false], Bool[false false … false false; false true … false false; … ; false false … false false; false false … false false], Bool[false false … false false; false false … false false; … ; false false … false false; false false … false false], Bool[false false … false false; false true … false false; … ; false false … false false; false false … false false], Bool[false false … false false; false false … false false; … ; false false … false false; false false … false false], Bool[false false … false false; false false … false false; … ; false false … false false; false false … false false], Bool[false false … false false; false false … false false; … ; false false … false false; false false … false false], Bool[false false … false false; false false … false false; … ; false false … false false; false false … false false]  …  Bool[false false … false false; false false … false false; … ; false false … false false; false false … false false], Bool[false false … false false; true false … true false; … ; false false … false false; false false … false false], Bool[false false … false false; false false … false false; … ; false false … false false; false false … false false], Bool[false false … false false; false true … false false; … ; false false … false false; false false … false false], Bool[false false … false false; false false … false false; … ; false false … false false; false false … false false], Bool[false false … false false; false false … false false; … ; false false … false false; false false … false false], Bool[false false … false false; false false … false false; … ; false false … false false; false false … false false], Bool[false false … false false; false false … false false; … ; false false … false false; false false … false false], Bool[false false … false false; false false … false false; … ; false false … false false; false false … false false], Bool[false false … false false; false false … false false; … ; false false … false false; false false … false false]]      \n",
       " Flux.OneHotMatrix{Array{Flux.OneHotVector,1}}[Bool[false false … false false; false false … true false; … ; false false … false false; false false … false false], Bool[false false … false false; false true … false false; … ; false false … false false; false false … false false], Bool[false false … false false; false false … false false; … ; false false … false false; false false … false false], Bool[false false … false false; false false … false false; … ; false false … false false; false false … false false], Bool[false false … false false; false false … true false; … ; false false … false false; false false … false false], Bool[false false … false false; false false … false false; … ; false false … false false; false false … false false], Bool[false false … false false; false false … false false; … ; false false … false false; false false … false false], Bool[false false … false false; false false … true false; … ; false false … false false; false false … false false], Bool[false false … false false; false false … false false; … ; false false … false false; false false … false false], Bool[false false … false false; false false … false false; … ; false false … false false; false false … false false]  …  Bool[false false … false false; false false … false false; … ; false false … false false; false false … false false], Bool[false false … false false; false false … false false; … ; false false … false false; false false … false false], Bool[false false … false false; false false … false false; … ; false false … false false; false false … false false], Bool[false false … false false; false false … false false; … ; false false … false false; false false … false false], Bool[false false … false false; false false … false false; … ; false false … false false; false false … false false], Bool[false false … false false; false false … false false; … ; false false … false false; false false … false false], Bool[false false … false false; false false … false false; … ; false false … false false; false false … false false], Bool[false false … false false; false false … false false; … ; false false … false false; false false … false false], Bool[false false … false false; false false … false false; … ; false false … false false; false false … false false], Bool[false false … false false; true false … true false; … ; false false … false false; false false … false false]]      \n",
       " ⋮                                                                                                                                                                                                                                                                                                                                                                                                                                                                                                                                                                                                                                                                                                                                                                                                                                                                                                                                                                                                                                                                                                                                                                                                                                                                                                                                                                                                                                                                                                                                                                                                                                                                                                                                                                                                                                                                                                                                                                                                                                                                                                                                                                                                                                                                                                                                                                                                                                                                                                       \n",
       " Flux.OneHotMatrix{Array{Flux.OneHotVector,1}}[Bool[false false … false false; false false … false false; … ; false false … false false; false false … false false], Bool[false false … false false; false false … false false; … ; false false … false false; false false … false false], Bool[false false … false false; false false … false false; … ; false false … false false; false false … false false], Bool[false false … false false; false false … false false; … ; false false … false false; false false … false false], Bool[false false … false false; false false … false false; … ; false false … false false; false false … false false], Bool[false false … false false; false true … false false; … ; false false … false false; false false … false false], Bool[false false … false false; false false … false false; … ; false false … false false; false false … false false], Bool[false false … false false; false false … false false; … ; false false … false false; false false … false false], Bool[false false … false false; false false … false false; … ; false false … false false; false false … false false], Bool[false false … false false; false false … false false; … ; false false … false false; false false … false false]  …  Bool[false false … false false; false false … false false; … ; false false … false false; false false … false false], Bool[false false … false false; false false … false false; … ; false false … false false; false false … false false], Bool[false false … false false; false false … false false; … ; false false … false false; false false … false false], Bool[false false … false false; false false … false false; … ; false false … false false; false false … false false], Bool[false false … false false; false false … false false; … ; false false … false false; false false … false false], Bool[false false … false false; false false … false false; … ; false false … false false; false false … false false], Bool[false false … false false; false false … false false; … ; false false … false false; false false … false false], Bool[false false … false false; false false … false false; … ; false false … false false; false false … false false], Bool[false false … false false; false false … false false; … ; false false … false false; false false … false false], Bool[false false … false false; false false … false false; … ; false false … false false; false false … false false]] \n",
       " Flux.OneHotMatrix{Array{Flux.OneHotVector,1}}[Bool[false false … false false; false false … false false; … ; false false … false false; false false … false false], Bool[false false … false false; false false … false false; … ; false false … false false; false false … false false], Bool[false false … false false; false false … false false; … ; false false … false false; false false … false false], Bool[false false … false false; false false … false false; … ; false false … false false; false false … false false], Bool[false false … false false; false false … false false; … ; false false … false false; false false … false false], Bool[false false … false false; false false … false false; … ; false false … false false; false false … false false], Bool[false false … false false; false false … false false; … ; false false … false false; false false … false false], Bool[false false … false false; false false … false false; … ; false false … false false; false false … false false], Bool[false false … false false; false false … false false; … ; false false … false false; false false … false false], Bool[false false … false false; false false … true false; … ; false false … false false; false false … false false]  …  Bool[false false … false false; true false … false false; … ; false false … false false; false false … false false], Bool[false false … false false; false false … false false; … ; false false … false false; false false … false false], Bool[false false … false false; false false … true false; … ; false false … false false; false false … false false], Bool[false false … false false; false false … false false; … ; false false … false false; false false … false false], Bool[false false … false false; false false … false false; … ; false false … false false; false false … false false], Bool[false false … false false; false false … false false; … ; false false … false false; false false … false false], Bool[false false … false false; false false … false false; … ; false false … false false; false false … false false], Bool[false false … false false; true false … false false; … ; false false … false false; false false … false false], Bool[false false … false false; false false … false true; … ; false false … false false; false false … false false], Bool[false false … false false; false false … false false; … ; false false … false false; false false … false false]]     \n",
       " Flux.OneHotMatrix{Array{Flux.OneHotVector,1}}[Bool[false false … false false; false false … false false; … ; false false … false false; false false … false false], Bool[false false … false false; false false … false false; … ; false false … false false; false false … false false], Bool[false false … false false; false false … false false; … ; false false … false false; false false … false false], Bool[false false … false false; false false … false false; … ; false false … false false; false false … false false], Bool[false false … false false; false false … false false; … ; false false … false false; false false … false false], Bool[false false … false false; false false … false false; … ; false false … false false; false false … false false], Bool[false false … false false; false false … false false; … ; false false … false false; false false … false false], Bool[false false … false false; false false … false false; … ; false false … false false; false false … false false], Bool[false false … false false; false false … false false; … ; false false … false false; false false … false false], Bool[false false … false false; false true … false false; … ; false false … false false; false false … false false]  …  Bool[false false … false false; false false … false false; … ; false false … false false; false false … false false], Bool[false false … false false; false false … false false; … ; false false … false false; false false … false false], Bool[false false … false false; false false … false false; … ; false false … false false; false false … false false], Bool[false false … false false; false false … true false; … ; false false … false false; false false … false false], Bool[false false … false false; false false … false false; … ; false false … false false; false false … false false], Bool[false false … false false; false false … false true; … ; false false … false false; false false … false false], Bool[false false … false false; false false … false false; … ; false false … false false; false false … false false], Bool[false false … false false; false false … false false; … ; false false … false false; false false … false false], Bool[false false … false false; false false … false false; … ; false false … false false; false false … false false], Bool[false false … false false; false false … false false; … ; false false … false false; false false … false false]]   \n",
       " Flux.OneHotMatrix{Array{Flux.OneHotVector,1}}[Bool[false false … false false; false false … false false; … ; false false … false false; false false … false false], Bool[false false … false false; false false … false false; … ; false false … false false; false false … false false], Bool[false false … false false; false false … false false; … ; false false … false false; false false … false false], Bool[false false … false false; false false … false false; … ; false false … false false; false false … false false], Bool[false false … false false; false false … false false; … ; false false … false false; false false … false false], Bool[false false … false false; false false … false false; … ; false false … false false; false false … false false], Bool[false false … false false; false false … false false; … ; false false … false false; false false … false false], Bool[false false … false false; false false … false false; … ; false false … false false; false false … false false], Bool[false false … false false; false false … false false; … ; false false … false false; false false … false false], Bool[false false … false false; false false … false false; … ; false false … false false; false false … false false]  …  Bool[false false … false false; false false … false false; … ; false false … false false; false false … false false], Bool[false false … false false; false false … false false; … ; false false … false false; false false … false false], Bool[false false … false false; false false … false false; … ; false false … false false; false false … false false], Bool[false false … false false; false false … false false; … ; false false … false false; false false … false false], Bool[false false … false false; false false … false false; … ; false false … false false; false false … false false], Bool[false false … false false; false false … true false; … ; false false … false false; false false … false false], Bool[false false … false false; false false … false false; … ; false false … false false; false false … false false], Bool[false false … false false; false false … false false; … ; false false … false false; false false … false false], Bool[false false … false false; false false … false false; … ; false false … false false; false false … false false], Bool[false false … false false; false false … false false; … ; false false … false false; false false … false false]] \n",
       " Flux.OneHotMatrix{Array{Flux.OneHotVector,1}}[Bool[false false … false false; true false … false false; … ; false false … false false; false false … false false], Bool[false false … false false; false false … false false; … ; false false … false false; false false … false false], Bool[false false … false false; false false … false false; … ; false false … false false; false false … false false], Bool[false false … false false; false false … false false; … ; false false … false false; false false … false false], Bool[false false … false false; false false … false false; … ; false false … false false; false false … false false], Bool[false false … false false; false false … false false; … ; false false … false false; false false … false false], Bool[false false … false false; false false … false false; … ; false false … false false; false false … false false], Bool[false false … false false; false false … false true; … ; false false … false false; false false … false false], Bool[false false … false false; false false … false false; … ; false false … false false; false false … false false], Bool[false false … false false; false false … false false; … ; false false … false false; false false … false false]  …  Bool[false false … false false; false false … false false; … ; false false … false false; false false … false false], Bool[false false … false false; false false … false false; … ; false false … false false; false false … false false], Bool[false false … false false; false false … false false; … ; false false … false false; false false … false false], Bool[false false … false false; false false … false false; … ; false false … false false; false false … false false], Bool[false false … false false; false false … true false; … ; false false … false false; false false … false false], Bool[false false … false false; false false … false false; … ; false false … false false; false false … false false], Bool[false false … false false; false false … false false; … ; false false … false false; false false … false false], Bool[false false … false false; false false … false true; … ; false false … false false; false false … false false], Bool[false false … false false; false false … false false; … ; false false … false false; false false … false false], Bool[false false … false false; false false … false false; … ; false false … false false; false false … false false]]    \n",
       " Flux.OneHotMatrix{Array{Flux.OneHotVector,1}}[Bool[false false … false false; false false … false false; … ; false false … false false; false false … false false], Bool[false false … false false; false false … false false; … ; false false … false false; false false … false false], Bool[false false … false false; false false … false false; … ; false false … false false; false false … false false], Bool[false false … false false; false false … false false; … ; false false … false false; false false … false false], Bool[false false … false false; false false … true false; … ; false false … false false; false false … false false], Bool[false false … false false; false false … false true; … ; false false … false false; false false … false false], Bool[false false … false false; false false … false false; … ; false false … false false; false false … false false], Bool[false false … false false; false false … false false; … ; false false … false false; false false … false false], Bool[false false … false false; false false … false false; … ; false false … false false; false false … false false], Bool[false false … false false; false false … false false; … ; false false … false false; false false … false false]  …  Bool[false false … false false; false false … true false; … ; false false … false false; false false … false false], Bool[false false … false false; false false … false false; … ; false false … false false; false false … false false], Bool[false false … false false; false false … false false; … ; false false … false false; false false … false false], Bool[false false … false false; false false … false false; … ; false false … false false; false false … false false], Bool[false false … false false; false false … true false; … ; false false … false false; false false … false false], Bool[false false … false false; false false … false true; … ; false false … false false; false false … false false], Bool[false false … false false; false true … false false; … ; false false … false false; false false … false false], Bool[false false … false false; false false … false false; … ; false false … false false; false false … false false], Bool[false false … false false; false false … false false; … ; false false … false false; false false … false false], Bool[false false … false false; false false … true false; … ; false false … false false; false false … false false]]       \n",
       " Flux.OneHotMatrix{Array{Flux.OneHotVector,1}}[Bool[false false … false false; false false … false false; … ; false false … false false; false false … false false], Bool[false false … false false; false false … false false; … ; false false … false false; false false … false false], Bool[false false … false false; false false … false false; … ; false false … false false; false false … false false], Bool[false false … false false; false false … false false; … ; false false … false false; false false … false false], Bool[false false … false false; false false … false false; … ; false false … false false; false false … false false], Bool[false false … false false; false false … true false; … ; false false … false false; false false … false false], Bool[false false … false false; false false … false false; … ; false false … false false; false false … false false], Bool[false false … false false; false false … false false; … ; false false … false false; false false … false false], Bool[false false … false false; false false … false false; … ; false false … false false; false false … false false], Bool[false false … false false; false false … false false; … ; false false … false false; false false … false false]  …  Bool[false false … false false; false false … false false; … ; false false … false false; false false … false false], Bool[false false … false false; false false … false true; … ; false false … false false; false false … false false], Bool[false false … false false; false false … false false; … ; false false … false false; false false … false false], Bool[false false … false false; false false … true false; … ; false false … false false; false false … false false], Bool[false false … false false; false false … false false; … ; false false … false false; false false … false false], Bool[false false … false false; false false … false true; … ; false false … false false; false false … false false], Bool[false false … false false; false false … true false; … ; false false … false false; false false … false false], Bool[false false … false false; false false … false false; … ; false false … false false; false false … false false], Bool[false false … false false; false false … false false; … ; false false … false false; false false … false false], Bool[false false … false false; false false … false false; … ; false false … false false; false false … false false]]     \n",
       " Flux.OneHotMatrix{Array{Flux.OneHotVector,1}}[Bool[false false … false false; false false … false false; … ; false false … false false; false false … false false], Bool[false false … false false; false false … false true; … ; false false … false false; false false … false false], Bool[false false … false false; false false … false false; … ; false false … false false; false false … false false], Bool[false false … false false; false false … false false; … ; false false … false false; false false … false false], Bool[false false … false false; false false … false false; … ; false false … false false; false false … false false], Bool[false false … false false; false false … true false; … ; false false … false false; false false … false false], Bool[false false … false false; false false … false false; … ; false false … false false; false false … false false], Bool[false false … false false; false false … false false; … ; false false … false false; false false … false false], Bool[false false … false false; false false … false false; … ; false false … false false; false false … false false], Bool[false false … false false; false false … false false; … ; false false … false false; false false … false false]  …  Bool[false false … false false; false false … false false; … ; false false … false false; false false … false false], Bool[false false … false false; false false … false false; … ; false false … false false; false false … false false], Bool[false false … false false; false false … false true; … ; false false … false false; false false … false false], Bool[false false … false false; false false … false false; … ; false false … false false; false false … false false], Bool[false false … false false; false false … true false; … ; false false … false false; false false … false false], Bool[false false … false false; false false … false false; … ; false false … false false; false false … false false], Bool[false false … false false; false false … false false; … ; false false … false false; false false … false false], Bool[false false … false false; false false … false false; … ; false false … false false; false false … false false], Bool[false false … false false; false false … false false; … ; false false … false false; false false … false false], Bool[false false … false false; false false … false false; … ; false false … false false; false false … false false]]    \n",
       " Flux.OneHotMatrix{Array{Flux.OneHotVector,1}}[Bool[false false … false false; false false … false false; … ; false false … false false; false false … false false], Bool[false false … false false; false false … false false; … ; false false … false false; false false … false false], Bool[false false … false false; false false … false false; … ; false false … false false; false false … false false], Bool[false false … false false; false false … false false; … ; false false … false false; false false … false false], Bool[false false … false false; false false … false false; … ; false false … false false; false false … false false], Bool[false false … false false; false false … false false; … ; false false … false false; false false … false false], Bool[false false … false false; false false … false false; … ; false false … false false; false false … false false], Bool[false false … false false; false false … false false; … ; false false … false false; false false … false false], Bool[false false … false false; false false … false false; … ; false false … false false; false false … false false], Bool[false false … false false; false false … false false; … ; false false … false false; false false … false false]  …  Bool[false false … false false; false false … false false; … ; false false … false false; false false … false false], Bool[false false … false false; false true … false false; … ; false false … false false; false false … false false], Bool[false false … false false; false false … false false; … ; false false … false false; false false … false false], Bool[false false … false false; false false … false false; … ; false false … false false; false false … false false], Bool[false false … false false; false false … false false; … ; false false … false false; false false … false false], Bool[false false … false false; false false … false false; … ; false false … false false; false false … false false], Bool[false false … false false; false false … false false; … ; false false … false false; false false … false false], Bool[false false … false false; false false … false false; … ; false false … false false; false false … false false], Bool[false false … false false; false false … false false; … ; false false … false false; false false … false false], Bool[false false … false false; false false … false false; … ; false false … false false; false false … false false]] \n",
       " Flux.OneHotMatrix{Array{Flux.OneHotVector,1}}[Bool[false false … false false; false false … false false; … ; false false … false false; false false … false false], Bool[false false … false false; false false … false false; … ; false false … false false; false false … false false], Bool[false false … false false; false false … false false; … ; false false … false false; false false … false false], Bool[false false … false false; false false … false false; … ; false false … false false; false false … false false], Bool[false false … false false; false false … false false; … ; false false … false false; false false … false false], Bool[false false … false false; false false … false true; … ; false false … false false; false false … false false], Bool[false false … false false; false false … false false; … ; false false … false false; false false … false false], Bool[false false … false false; false false … false false; … ; false false … false false; false false … false false], Bool[false false … false false; false false … false false; … ; false false … false false; false false … false false], Bool[false false … false false; false false … true false; … ; false false … false false; false false … false false]  …  Bool[false false … false false; false false … false false; … ; false false … false false; false false … false false], Bool[false false … false false; false false … false false; … ; false false … false false; false false … false false], Bool[false false … false false; false false … false false; … ; false false … false false; false false … false false], Bool[false false … false false; false false … false false; … ; false false … false false; false false … false false], Bool[false false … false false; false false … false false; … ; false false … false false; false false … false false], Bool[false false … false false; false false … false false; … ; false false … false false; false false … false false], Bool[false false … false false; false false … true false; … ; false false … false false; false false … false false], Bool[false false … false false; false false … false false; … ; false false … false false; false false … false false], Bool[false false … false false; false false … false false; … ; false false … false false; false false … false false], Bool[false false … false false; false false … false false; … ; false false … false false; false false … false false]]   \n",
       " Flux.OneHotMatrix{Array{Flux.OneHotVector,1}}[Bool[false false … false false; false false … false false; … ; false false … false false; false false … false false], Bool[false false … false false; false false … false false; … ; false false … false false; false false … false false], Bool[false false … false false; false false … false false; … ; false false … false false; false false … false false], Bool[false false … false false; false false … false false; … ; false false … false false; false false … false false], Bool[false false … false false; false false … false false; … ; false false … false false; false false … false false], Bool[false false … false false; false false … true false; … ; false false … false false; false false … false false], Bool[false false … false false; false false … false false; … ; false false … false false; false false … false false], Bool[false false … false false; false false … false false; … ; false false … false false; false false … false false], Bool[false false … false false; false false … true false; … ; false false … false false; false false … false false], Bool[false false … false false; false false … false false; … ; false false … false false; false false … false false]  …  Bool[false false … false false; false false … false false; … ; false false … false false; false false … false false], Bool[false false … false false; false true … false false; … ; false false … false false; false false … false false], Bool[false false … false false; false false … false false; … ; false false … false false; false false … false false], Bool[false false … false false; false false … false false; … ; false false … false false; false false … false false], Bool[false false … false false; false false … false false; … ; false false … false false; false false … false false], Bool[false false … false false; false true … false false; … ; false false … false false; false false … false false], Bool[false false … false false; false false … false false; … ; false false … false false; false false … false false], Bool[false false … false false; false false … false false; … ; false false … false false; false false … false false], Bool[false false … false false; true false … false false; … ; false false … false false; false false … false false], Bool[false false … false false; false false … false false; … ; false false … false false; false false … false false]]     \n",
       " Flux.OneHotMatrix{Array{Flux.OneHotVector,1}}[Bool[false false … false false; false false … false false; … ; false false … false false; false false … false false], Bool[false false … false false; false false … false false; … ; false false … false false; false false … false false], Bool[false false … false false; false false … false false; … ; false false … false false; false false … false false], Bool[false false … false false; false false … false false; … ; false false … false false; false false … false false], Bool[false false … false false; false false … false false; … ; false false … false false; false false … false true], Bool[false false … false false; false false … false false; … ; false false … false false; false false … false true], Bool[false false … false false; false false … false false; … ; false false … false false; false false … false true], Bool[false false … false false; false false … false false; … ; false false … false false; false false … false true], Bool[false false … false false; false false … false false; … ; false false … false false; false false … false true], Bool[false false … false false; false false … false false; … ; false false … false false; false false … false true], Bool[false false … false false; false false … false false; … ; false false … false false; false false … false true], Bool[false false … false false; false false … false false; … ; false false … false false; false false … false true], Bool[false false … false false; false false … false false; … ; false false … false false; false false … false true], Bool[false false … false false; false false … false false; … ; false false … false false; false false … false true], Bool[false false … false false; false false … false false; … ; false false … false false; false false … false true], Bool[false false … false false; false false … false false; … ; false false … false false; false false … false true], Bool[false false … false false; false false … false false; … ; false false … false false; false false … false true]]                                                                                                                                                                                                                                                                                                                                                                                  "
      ]
     },
     "execution_count": 28,
     "metadata": {},
     "output_type": "execute_result"
    }
   ],
   "source": [
    "X_train = collect(partition(batchseq(chunk(text, nbatch), stop), seqlen))\n",
    "y_train = collect(partition(batchseq(chunk(text[2:end], nbatch), stop), seqlen))"
   ]
  },
  {
   "cell_type": "code",
   "execution_count": 36,
   "metadata": {
    "collapsed": false
   },
   "outputs": [
    {
     "data": {
      "text/plain": [
       "Chain(Recur(LSTMCell(68, 128)), Recur(LSTMCell(128, 128)), Dense(128, 68), NNlib.softmax)"
      ]
     },
     "execution_count": 36,
     "metadata": {},
     "output_type": "execute_result"
    }
   ],
   "source": [
    "model = Chain(\n",
    "  LSTM(N, 128),\n",
    "  LSTM(128, 128),\n",
    "  Dense(128, N),\n",
    "  softmax)"
   ]
  },
  {
   "cell_type": "code",
   "execution_count": 37,
   "metadata": {
    "collapsed": false
   },
   "outputs": [
    {
     "data": {
      "text/plain": [
       "loss (generic function with 1 method)"
      ]
     },
     "execution_count": 37,
     "metadata": {},
     "output_type": "execute_result"
    }
   ],
   "source": [
    "function loss(xs, ys)\n",
    "    l = sum(crossentropy.(model.(xs), ys))\n",
    "    Flux.truncate!(model)\n",
    "    return l\n",
    "end"
   ]
  },
  {
   "cell_type": "code",
   "execution_count": 39,
   "metadata": {
    "collapsed": false
   },
   "outputs": [
    {
     "data": {
      "text/plain": [
       "(::#71) (generic function with 1 method)"
      ]
     },
     "execution_count": 39,
     "metadata": {},
     "output_type": "execute_result"
    }
   ],
   "source": [
    "opt = ADAM(params(model), 0.01)"
   ]
  },
  {
   "cell_type": "code",
   "execution_count": 43,
   "metadata": {
    "collapsed": false
   },
   "outputs": [
    {
     "data": {
      "text/plain": [
       "(::#7) (generic function with 1 method)"
      ]
     },
     "execution_count": 43,
     "metadata": {},
     "output_type": "execute_result"
    }
   ],
   "source": [
    "evalcb = () -> @show loss(X_train[5], y_train[5])"
   ]
  },
  {
   "cell_type": "code",
   "execution_count": 44,
   "metadata": {
    "collapsed": false,
    "scrolled": true
   },
   "outputs": [
    {
     "name": "stdout",
     "output_type": "stream",
     "text": [
      "loss(X_train[5], y_train[5]) = param(180.317)\n",
      "loss(X_train[5], y_train[5]) = param(166.509)\n",
      "loss(X_train[5], y_train[5]) = param(156.282)\n",
      "loss(X_train[5], y_train[5]) = param(136.673)\n",
      "loss(X_train[5], y_train[5]) = param(127.755)\n",
      "loss(X_train[5], y_train[5]) = param(123.901)\n",
      "loss(X_train[5], y_train[5]) = param(119.881)\n",
      "loss(X_train[5], y_train[5]) = param(117.02)\n",
      "loss(X_train[5], y_train[5]) = param(113.634)\n",
      "loss(X_train[5], y_train[5]) = param(112.524)\n",
      "loss(X_train[5], y_train[5]) = param(109.624)\n",
      "loss(X_train[5], y_train[5]) = param(108.195)\n",
      "loss(X_train[5], y_train[5]) = param(106.429)\n",
      "loss(X_train[5], y_train[5]) = param(105.297)\n",
      "loss(X_train[5], y_train[5]) = param(103.111)\n",
      "loss(X_train[5], y_train[5]) = param(102.975)\n",
      "loss(X_train[5], y_train[5]) = param(102.287)\n",
      "loss(X_train[5], y_train[5]) = param(100.954)\n",
      "loss(X_train[5], y_train[5]) = param(99.997)\n",
      "loss(X_train[5], y_train[5]) = param(99.0703)\n",
      "loss(X_train[5], y_train[5]) = param(99.0709)\n",
      "loss(X_train[5], y_train[5]) = param(98.8833)\n",
      "loss(X_train[5], y_train[5]) = param(96.12)\n",
      "loss(X_train[5], y_train[5]) = param(95.1744)\n",
      "loss(X_train[5], y_train[5]) = param(96.4132)\n",
      "loss(X_train[5], y_train[5]) = param(96.11)\n",
      "loss(X_train[5], y_train[5]) = param(94.1651)\n",
      "loss(X_train[5], y_train[5]) = param(94.1195)\n",
      "loss(X_train[5], y_train[5]) = param(93.3451)\n",
      "loss(X_train[5], y_train[5]) = param(94.0144)\n",
      "loss(X_train[5], y_train[5]) = param(92.5236)\n",
      "loss(X_train[5], y_train[5]) = param(93.5341)\n",
      "loss(X_train[5], y_train[5]) = param(91.9557)\n",
      "loss(X_train[5], y_train[5]) = param(91.0127)\n",
      "loss(X_train[5], y_train[5]) = param(90.6773)\n",
      "loss(X_train[5], y_train[5]) = param(91.9832)\n",
      "loss(X_train[5], y_train[5]) = param(90.4395)\n",
      "loss(X_train[5], y_train[5]) = param(89.5533)\n",
      "loss(X_train[5], y_train[5]) = param(89.5348)\n",
      "loss(X_train[5], y_train[5]) = param(90.983)\n",
      "loss(X_train[5], y_train[5]) = param(89.3939)\n",
      "loss(X_train[5], y_train[5]) = param(89.3543)\n",
      "loss(X_train[5], y_train[5]) = param(89.7125)\n",
      "loss(X_train[5], y_train[5]) = param(89.4934)\n",
      "loss(X_train[5], y_train[5]) = param(89.0592)\n",
      "loss(X_train[5], y_train[5]) = param(88.6375)\n",
      "loss(X_train[5], y_train[5]) = param(87.1839)\n",
      "loss(X_train[5], y_train[5]) = param(87.3951)\n",
      "loss(X_train[5], y_train[5]) = param(88.1496)\n",
      "loss(X_train[5], y_train[5]) = param(87.9495)\n",
      "loss(X_train[5], y_train[5]) = param(87.5559)\n",
      "loss(X_train[5], y_train[5]) = param(86.7403)\n",
      "loss(X_train[5], y_train[5]) = param(86.9603)\n",
      "loss(X_train[5], y_train[5]) = param(86.9763)\n",
      "loss(X_train[5], y_train[5]) = param(87.5007)\n",
      "loss(X_train[5], y_train[5]) = param(88.2316)\n",
      "loss(X_train[5], y_train[5]) = param(87.1503)\n",
      "loss(X_train[5], y_train[5]) = param(87.1577)\n",
      "loss(X_train[5], y_train[5]) = param(88.1176)\n",
      "loss(X_train[5], y_train[5]) = param(87.5099)\n",
      "loss(X_train[5], y_train[5]) = param(87.4994)\n",
      "loss(X_train[5], y_train[5]) = param(85.5773)\n",
      "loss(X_train[5], y_train[5]) = param(86.6069)\n",
      "loss(X_train[5], y_train[5]) = param(86.5351)\n",
      "loss(X_train[5], y_train[5]) = param(85.1879)\n",
      "loss(X_train[5], y_train[5]) = param(84.1003)\n",
      "loss(X_train[5], y_train[5]) = param(86.2698)\n",
      "loss(X_train[5], y_train[5]) = param(86.3884)\n",
      "loss(X_train[5], y_train[5]) = param(86.4571)\n",
      "loss(X_train[5], y_train[5]) = param(83.4603)\n"
     ]
    },
    {
     "ename": "LoadError",
     "evalue": "\u001b[91mInterruptException:\u001b[39m",
     "output_type": "error",
     "traceback": [
      "\u001b[91mInterruptException:\u001b[39m",
      "",
      "Stacktrace:",
      " [1] \u001b[1mFlux.Tracker.Broadcasted\u001b[22m\u001b[22m\u001b[1m(\u001b[22m\u001b[22m::Array{ForwardDiff.Dual{Void,Float64,2},2}\u001b[1m)\u001b[22m\u001b[22m at \u001b[1m/Users/hitmann47/.julia/v0.6/Flux/src/tracker/lib.jl:167\u001b[22m\u001b[22m",
      " [2] \u001b[1mtracked_broadcast\u001b[22m\u001b[22m\u001b[1m(\u001b[22m\u001b[22m::Function, ::TrackedArray{…,Array{Float64,2}}, ::TrackedArray{…,Array{Float64,1}}\u001b[1m)\u001b[22m\u001b[22m at \u001b[1m/Users/hitmann47/.julia/v0.6/Flux/src/tracker/lib.jl:181\u001b[22m\u001b[22m",
      " [3] \u001b[1m(::Flux.Dense{Base.#tanh,TrackedArray{…,Array{Float64,2}},TrackedArray{…,Array{Float64,1}}})\u001b[22m\u001b[22m\u001b[1m(\u001b[22m\u001b[22m::TrackedArray{…,Array{Float64,2}}\u001b[1m)\u001b[22m\u001b[22m at \u001b[1m/Users/hitmann47/.julia/v0.6/Flux/src/layers/basic.jl:76\u001b[22m\u001b[22m",
      " [4] \u001b[1m(::Flux.LSTMCell{Flux.Dense{NNlib.#σ,TrackedArray{…,Array{Float64,2}},TrackedArray{…,Array{Float64,1}}},Flux.Dense{Base.#tanh,TrackedArray{…,Array{Float64,2}},TrackedArray{…,Array{Float64,1}}},TrackedArray{…,Array{Float64,1}}})\u001b[22m\u001b[22m\u001b[1m(\u001b[22m\u001b[22m::Tuple{TrackedArray{…,Array{Float64,2}},TrackedArray{…,Array{Float64,2}}}, ::Flux.OneHotMatrix{Array{Flux.OneHotVector,1}}\u001b[1m)\u001b[22m\u001b[22m at \u001b[1m/Users/hitmann47/.julia/v0.6/Flux/src/layers/recurrent.jl:127\u001b[22m\u001b[22m",
      " [5] \u001b[1m(::Flux.Recur{Flux.LSTMCell{Flux.Dense{NNlib.#σ,TrackedArray{…,Array{Float64,2}},TrackedArray{…,Array{Float64,1}}},Flux.Dense{Base.#tanh,TrackedArray{…,Array{Float64,2}},TrackedArray{…,Array{Float64,1}}},TrackedArray{…,Array{Float64,1}}}})\u001b[22m\u001b[22m\u001b[1m(\u001b[22m\u001b[22m::Flux.OneHotMatrix{Array{Flux.OneHotVector,1}}, ::Vararg{Flux.OneHotMatrix{Array{Flux.OneHotVector,1}},N} where N\u001b[1m)\u001b[22m\u001b[22m at \u001b[1m/Users/hitmann47/.julia/v0.6/Flux/src/layers/recurrent.jl:37\u001b[22m\u001b[22m",
      " [6] \u001b[1mmapfoldl_impl\u001b[22m\u001b[22m\u001b[1m(\u001b[22m\u001b[22m::Base.#identity, ::Flux.##62#63, ::Flux.OneHotMatrix{Array{Flux.OneHotVector,1}}, ::Array{Any,1}, ::Int64\u001b[1m)\u001b[22m\u001b[22m at \u001b[1m./reduce.jl:43\u001b[22m\u001b[22m",
      " [7] \u001b[1m(::Flux.Chain)\u001b[22m\u001b[22m\u001b[1m(\u001b[22m\u001b[22m::Flux.OneHotMatrix{Array{Flux.OneHotVector,1}}\u001b[1m)\u001b[22m\u001b[22m at \u001b[1m/Users/hitmann47/.julia/v0.6/Flux/src/layers/basic.jl:31\u001b[22m\u001b[22m",
      " [8] \u001b[1m#3\u001b[22m\u001b[22m at \u001b[1m./<missing>:0\u001b[22m\u001b[22m [inlined]",
      " [9] \u001b[1mmacro expansion\u001b[22m\u001b[22m at \u001b[1m./broadcast.jl:232\u001b[22m\u001b[22m [inlined]",
      " [10] \u001b[1m_broadcast!\u001b[22m\u001b[22m\u001b[1m(\u001b[22m\u001b[22m::##3#4, ::Array{TrackedArray{…,Array{Float64,0}},1}, ::Tuple{Tuple{Bool},Tuple{Bool}}, ::Tuple{Tuple{Int64},Tuple{Int64}}, ::Tuple{Array{Flux.OneHotMatrix{Array{Flux.OneHotVector,1}},1},Array{Flux.OneHotMatrix{Array{Flux.OneHotVector,1}},1}}, ::Type{Val{2}}, ::CartesianRange{CartesianIndex{1}}, ::CartesianIndex{1}, ::Int64\u001b[1m)\u001b[22m\u001b[22m at \u001b[1m./broadcast.jl:219\u001b[22m\u001b[22m",
      " [11] \u001b[1mbroadcast_t\u001b[22m\u001b[22m\u001b[1m(\u001b[22m\u001b[22m::Function, ::Type{Any}, ::Tuple{Base.OneTo{Int64}}, ::CartesianRange{CartesianIndex{1}}, ::Array{Flux.OneHotMatrix{Array{Flux.OneHotVector,1}},1}, ::Array{Flux.OneHotMatrix{Array{Flux.OneHotVector,1}},1}\u001b[1m)\u001b[22m\u001b[22m at \u001b[1m./broadcast.jl:265\u001b[22m\u001b[22m",
      " [12] \u001b[1mbroadcast_c\u001b[22m\u001b[22m at \u001b[1m./broadcast.jl:321\u001b[22m\u001b[22m [inlined]",
      " [13] \u001b[1mbroadcast\u001b[22m\u001b[22m at \u001b[1m./broadcast.jl:455\u001b[22m\u001b[22m [inlined]",
      " [14] \u001b[1mloss\u001b[22m\u001b[22m\u001b[1m(\u001b[22m\u001b[22m::Array{Flux.OneHotMatrix{Array{Flux.OneHotVector,1}},1}, ::Array{Flux.OneHotMatrix{Array{Flux.OneHotVector,1}},1}\u001b[1m)\u001b[22m\u001b[22m at \u001b[1m./In[37]:2\u001b[22m\u001b[22m",
      " [15] \u001b[1m#train!#130\u001b[22m\u001b[22m\u001b[1m(\u001b[22m\u001b[22m::Flux.#throttled#14, ::Function, ::Function, ::Base.Iterators.Zip2{Array{Array{Flux.OneHotMatrix{Array{Flux.OneHotVector,1}},1},1},Array{Array{Flux.OneHotMatrix{Array{Flux.OneHotVector,1}},1},1}}, ::Flux.Optimise.##71#75\u001b[1m)\u001b[22m\u001b[22m at \u001b[1m/Users/hitmann47/.julia/v0.6/Flux/src/optimise/train.jl:29\u001b[22m\u001b[22m",
      " [16] \u001b[1m(::Flux.Optimise.#kw##train!)\u001b[22m\u001b[22m\u001b[1m(\u001b[22m\u001b[22m::Array{Any,1}, ::Flux.Optimise.#train!, ::Function, ::Base.Iterators.Zip2{Array{Array{Flux.OneHotMatrix{Array{Flux.OneHotVector,1}},1},1},Array{Array{Flux.OneHotMatrix{Array{Flux.OneHotVector,1}},1},1}}, ::Function\u001b[1m)\u001b[22m\u001b[22m at \u001b[1m./<missing>:0\u001b[22m\u001b[22m",
      " [17] \u001b[1minclude_string\u001b[22m\u001b[22m\u001b[1m(\u001b[22m\u001b[22m::String, ::String\u001b[1m)\u001b[22m\u001b[22m at \u001b[1m./loading.jl:522\u001b[22m\u001b[22m"
     ]
    }
   ],
   "source": [
    "Flux.train!(loss, zip(X_train, y_train), opt,\n",
    "            cb = throttle(evalcb, 30))"
   ]
  },
  {
   "cell_type": "code",
   "execution_count": 51,
   "metadata": {
    "collapsed": false
   },
   "outputs": [
    {
     "data": {
      "text/plain": [
       "68×50 Flux.OneHotMatrix{Array{Flux.OneHotVector,1}}:\n",
       "  true  false  false  false  false  …  false  false  false  false  false\n",
       " false  false  false  false  false     false  false  false  false  false\n",
       " false  false  false  false  false     false  false  false   true  false\n",
       " false  false  false  false   true     false   true   true  false  false\n",
       " false  false  false  false  false      true  false  false  false  false\n",
       " false  false  false  false  false  …  false  false  false  false  false\n",
       " false  false  false  false  false     false  false  false  false  false\n",
       " false  false  false  false  false     false  false  false  false  false\n",
       " false   true  false  false  false     false  false  false  false   true\n",
       " false  false  false  false  false     false  false  false  false  false\n",
       " false  false  false  false  false  …  false  false  false  false  false\n",
       " false  false  false  false  false     false  false  false  false  false\n",
       " false  false  false  false  false     false  false  false  false  false\n",
       "     ⋮                              ⋱      ⋮                            \n",
       " false  false  false  false  false     false  false  false  false  false\n",
       " false  false  false  false  false     false  false  false  false  false\n",
       " false  false  false  false  false     false  false  false  false  false\n",
       " false  false  false  false  false     false  false  false  false  false\n",
       " false  false  false  false  false  …  false  false  false  false  false\n",
       " false  false  false  false  false     false  false  false  false  false\n",
       " false  false  false  false  false     false  false  false  false  false\n",
       " false  false  false  false  false     false  false  false  false  false\n",
       " false  false  false  false  false     false  false  false  false  false\n",
       " false  false  false  false  false  …  false  false  false  false  false\n",
       " false  false  false  false  false     false  false  false  false  false\n",
       " false  false  false  false  false     false  false  false  false  false"
      ]
     },
     "execution_count": 51,
     "metadata": {},
     "output_type": "execute_result"
    }
   ],
   "source": [
    "X_train[1][1]"
   ]
  },
  {
   "cell_type": "code",
   "execution_count": 48,
   "metadata": {
    "collapsed": false
   },
   "outputs": [
    {
     "data": {
      "text/plain": [
       "68×50 Flux.OneHotMatrix{Array{Flux.OneHotVector,1}}:\n",
       " false  false  false  false  false  …  false  false  false  false  false\n",
       "  true  false  false  false   true     false  false  false  false  false\n",
       " false  false  false  false  false     false  false  false  false   true\n",
       " false  false  false  false  false     false  false  false   true  false\n",
       " false  false  false  false  false     false  false  false  false  false\n",
       " false  false  false   true  false  …  false   true   true  false  false\n",
       " false  false  false  false  false     false  false  false  false  false\n",
       " false  false  false  false  false     false  false  false  false  false\n",
       " false  false  false  false  false     false  false  false  false  false\n",
       " false  false  false  false  false     false  false  false  false  false\n",
       " false  false  false  false  false  …  false  false  false  false  false\n",
       " false  false  false  false  false     false  false  false  false  false\n",
       " false  false  false  false  false     false  false  false  false  false\n",
       "     ⋮                              ⋱      ⋮                            \n",
       " false  false  false  false  false     false  false  false  false  false\n",
       " false  false  false  false  false     false  false  false  false  false\n",
       " false  false  false  false  false     false  false  false  false  false\n",
       " false  false  false  false  false     false  false  false  false  false\n",
       " false  false  false  false  false  …  false  false  false  false  false\n",
       " false  false  false  false  false     false  false  false  false  false\n",
       " false  false  false  false  false     false  false  false  false  false\n",
       " false  false  false  false  false     false  false  false  false  false\n",
       " false  false  false  false  false     false  false  false  false  false\n",
       " false  false  false  false  false  …  false  false  false  false  false\n",
       " false  false  false  false  false     false  false  false  false  false\n",
       " false  false  false  false  false     false  false  false  false  false"
      ]
     },
     "execution_count": 48,
     "metadata": {},
     "output_type": "execute_result"
    }
   ],
   "source": [
    "y_train[1][1]"
   ]
  },
  {
   "cell_type": "code",
   "execution_count": null,
   "metadata": {
    "collapsed": true
   },
   "outputs": [],
   "source": []
  }
 ],
 "metadata": {
  "kernelspec": {
   "display_name": "Julia 0.6.2",
   "language": "julia",
   "name": "julia-0.6"
  },
  "language_info": {
   "file_extension": ".jl",
   "mimetype": "application/julia",
   "name": "julia",
   "version": "0.6.2"
  }
 },
 "nbformat": 4,
 "nbformat_minor": 2
}
