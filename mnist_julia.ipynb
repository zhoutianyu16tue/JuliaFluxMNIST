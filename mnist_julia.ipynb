{
 "cells": [
  {
   "cell_type": "code",
   "execution_count": null,
   "metadata": {},
   "outputs": [],
   "source": [
    "Pkg.add(\"MNIST\")\n",
    "Pkg.add(\"CuArrays\")"
   ]
  },
  {
   "cell_type": "code",
   "execution_count": null,
   "metadata": {},
   "outputs": [],
   "source": [
    "using Flux\n",
    "using Flux: onehotbatch, argmax, crossentropy, throttle\n",
    "using Base.Iterators: repeated, partition\n",
    "using MNIST\n",
    "using CuArrays"
   ]
  },
  {
   "cell_type": "code",
   "execution_count": null,
   "metadata": {},
   "outputs": [],
   "source": [
    "X_train, y_train = traindata();\n",
    "X_test, y_test = testdata();"
   ]
  },
  {
   "cell_type": "code",
   "execution_count": null,
   "metadata": {},
   "outputs": [],
   "source": [
    "y_train = onehotbatch(y_train, 0:9)\n",
    "\n",
    "dataset = [(reshape(cu(X_train[:, i]), (28, 28, 1, 100)), cu(y_train[:, i])) for i in partition(1:60000, 100)]"
   ]
  },
  {
   "cell_type": "code",
   "execution_count": null,
   "metadata": {},
   "outputs": [],
   "source": [
    "dataset[1][2]"
   ]
  },
  {
   "cell_type": "code",
   "execution_count": null,
   "metadata": {},
   "outputs": [],
   "source": [
    "X_train = reshape(cu(X_train), (28, 28, 1, 60000))\n",
    "X_test = reshape(cu(X_test), (28, 28, 1, 10000))\n",
    "\n",
    "function one_hot_encoding(x::Float64)\n",
    "    \n",
    "    tmp = zeros(10)'\n",
    "    tmp[Int(x) + 1] = 1\n",
    "    \n",
    "    return tmp\n",
    "end\n",
    "\n",
    "y_train = cu(onehotbatch(y_train, 0:9))\n",
    "y_test = cu(onehotbatch(y_test, 0:9))"
   ]
  },
  {
   "cell_type": "code",
   "execution_count": null,
   "metadata": {
    "scrolled": true
   },
   "outputs": [],
   "source": [
    "println(typeof(X_train))\n",
    "println(typeof(y_train))\n",
    "println(typeof(X_test))\n",
    "println(typeof(y_test))"
   ]
  },
  {
   "cell_type": "code",
   "execution_count": null,
   "metadata": {},
   "outputs": [],
   "source": [
    "model = Chain(\n",
    "            #28 * 28\n",
    "          Conv2D((3, 3), 1=>32, relu),\n",
    "            #26 * 26 * 32   \n",
    "          x -> maxpool2d(x, 2),\n",
    "            #13 * 13 * 32   \n",
    "          Conv2D((3, 3), 32=>64, relu),\n",
    "            #11 * 11 * 64\n",
    "          x -> maxpool2d(x, 2),\n",
    "            #5 * 5 * 64\n",
    "          x -> reshape(x, :, size(x, 4)),\n",
    "          Dense(1600, 128, relu),\n",
    "          Dense(128, 10), \n",
    "          softmax)\n",
    "\n",
    "model = mapleaves(cu, model)"
   ]
  },
  {
   "cell_type": "code",
   "execution_count": null,
   "metadata": {},
   "outputs": [],
   "source": [
    "# Use cross entropy loss here\n",
    "loss(x, y) = crossentropy(model(x), y)\n",
    "accuracy(x, y) = mean(argmax(model(x)) .== argmax(y))"
   ]
  },
  {
   "cell_type": "code",
   "execution_count": null,
   "metadata": {},
   "outputs": [],
   "source": [
    "# Callback during the training\n",
    "function eval_cb()\n",
    "    \n",
    "#     println(\"Training loss: $(loss(X_train, y_train)), acc: $(accuracy(X_train, y_train))\")\n",
    "    println(\"Test loss: $(loss(X_test, y_test)), acc: $(accuracy(X_test, y_test))\")\n",
    "    println()\n",
    "end\n",
    "\n",
    "optimizer = ADAM(params(model))\n",
    "\n",
    "# Flux.train!(loss, training_data, optimizer, cb = throttle(eval_cb, 10))"
   ]
  },
  {
   "cell_type": "code",
   "execution_count": null,
   "metadata": {},
   "outputs": [],
   "source": [
    "@time Flux.train!(loss, dataset, optimizer)"
   ]
  },
  {
   "cell_type": "code",
   "execution_count": null,
   "metadata": {},
   "outputs": [],
   "source": [
    "test_set = [(reshape(cu(X_train[:, i]), (28, 28, 1, 10000)), cu(y_train[:, i])) for i in partition(1:10000, 10000)]"
   ]
  },
  {
   "cell_type": "code",
   "execution_count": null,
   "metadata": {},
   "outputs": [],
   "source": [
    "accuracy(test_set[1][1], test_set[1][2])"
   ]
  }
 ],
 "metadata": {
  "kernelspec": {
   "display_name": "Julia 0.6.2",
   "language": "julia",
   "name": "julia-0.6"
  },
  "language_info": {
   "file_extension": ".jl",
   "mimetype": "application/julia",
   "name": "julia",
   "version": "0.6.2"
  }
 },
 "nbformat": 4,
 "nbformat_minor": 2
}
