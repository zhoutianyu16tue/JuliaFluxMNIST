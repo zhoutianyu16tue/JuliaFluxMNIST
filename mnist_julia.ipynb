{
 "cells": [
  {
   "cell_type": "code",
   "execution_count": null,
   "metadata": {
    "collapsed": false,
    "deletable": true,
    "editable": true
   },
   "outputs": [],
   "source": [
    "using Flux\n",
    "using Flux: onehotbatch, argmax, crossentropy, throttle\n",
    "using Base.Iterators: repeated, partition\n",
    "using MNIST\n",
    "using CLArrays"
   ]
  },
  {
   "cell_type": "code",
   "execution_count": null,
   "metadata": {
    "collapsed": false
   },
   "outputs": [],
   "source": [
    "X_train, y_train = traindata()\n",
    "X_test, y_test = testdata()\n",
    "\n",
    "\n",
    "X_train = X_train'\n",
    "X_test = X_test'\n",
    "\n",
    "X_train = reshape(X_train, (60000, 28, 28))\n",
    "X_test = reshape(X_test, (10000, 28, 28))\n",
    "\n",
    "X_train = [reshape(X_train[i, :], (28, 28)) for i in 1:60_000 ]\n",
    "X_test = [reshape(X_test[i, :], (28, 28)) for i in 1:10_000 ]\n",
    "\n",
    "println(size(X_train))\n",
    "println(size(y_train))\n",
    "println()\n",
    "println(size(X_test))\n",
    "println(size(y_test))"
   ]
  },
  {
   "cell_type": "code",
   "execution_count": null,
   "metadata": {
    "collapsed": false
   },
   "outputs": [],
   "source": [
    "# X_train = reshape(X_train, (28, 28, 1, 60000))\n",
    "# X_test = reshape(X_test, (28, 28, 1, 10000))\n",
    "\n",
    "y_train = onehotbatch(y_train, 0:9)\n",
    "y_test = onehotbatch(y_test, 0:9)\n",
    "\n",
    "println(typeof(y_test))\n",
    "println(size(y_test))\n",
    "println(typeof(y_train))\n",
    "println(size(y_train))"
   ]
  },
  {
   "cell_type": "code",
   "execution_count": null,
   "metadata": {
    "collapsed": false
   },
   "outputs": [],
   "source": [
    "println(typeof(X_train))\n",
    "println(typeof(X_test))\n",
    "println(size(X_train))\n",
    "println(size(X_test))"
   ]
  },
  {
   "cell_type": "code",
   "execution_count": null,
   "metadata": {
    "collapsed": false
   },
   "outputs": [],
   "source": [
    "# X_train_f32 = CLArray(Float32.(X_train))\n",
    "# y_train_f32 = CLArray(y_train)\n",
    "#\n",
    "X_test_f32 = CLArray(Float32.(X_test))\n",
    "y_test_f32 = CLArray(Float32.(y_test))"
   ]
  },
  {
   "cell_type": "code",
   "execution_count": null,
   "metadata": {
    "collapsed": true
   },
   "outputs": [],
   "source": []
  },
  {
   "cell_type": "code",
   "execution_count": null,
   "metadata": {
    "collapsed": false
   },
   "outputs": [],
   "source": [
    "# println(typeof(X_train_f32))\n",
    "# println(typeof(X_test_f32))\n",
    "println(typeof(y_train_f32))\n",
    "println(typeof(y_test_f32))"
   ]
  },
  {
   "cell_type": "code",
   "execution_count": null,
   "metadata": {
    "collapsed": false
   },
   "outputs": [],
   "source": [
    "# Partition into batches of size 100\n",
    "training_data = [(cat(4, float.(X_train[i])...), y_train[:,i])\n",
    "         for i in partition(1:60_000, 100)]\n",
    "\n",
    "X_train = cat(4, float.(X_train)...)\n",
    "X_test = cat(4, float.(X_test)...)"
   ]
  },
  {
   "cell_type": "code",
   "execution_count": null,
   "metadata": {
    "collapsed": false
   },
   "outputs": [],
   "source": [
    "println(size(X_test))\n",
    "println(size(X_train))\n",
    "\n",
    "println(typeof(X_test))\n",
    "println(typeof(X_train))"
   ]
  },
  {
   "cell_type": "code",
   "execution_count": null,
   "metadata": {
    "collapsed": false,
    "deletable": true,
    "editable": true
   },
   "outputs": [],
   "source": [
    "model = Chain(\n",
    "            #28 * 28\n",
    "          Conv2D((3, 3), 1=>32, relu),\n",
    "            #26 * 26 * 32   \n",
    "          x -> maxpool2d(x, 2),\n",
    "            #13 * 13 * 32   \n",
    "          Conv2D((3, 3), 32=>64, relu),\n",
    "            #11 * 11 * 64\n",
    "          x -> maxpool2d(x, 2),\n",
    "            #5 * 5 * 64\n",
    "          x -> reshape(x, :, size(x, 4)),\n",
    "          Dense(1600, 128, relu),\n",
    "          Dense(128, 10), \n",
    "          softmax)"
   ]
  },
  {
   "cell_type": "code",
   "execution_count": null,
   "metadata": {
    "collapsed": false,
    "deletable": true,
    "editable": true
   },
   "outputs": [],
   "source": [
    "# Use cross entropy loss here\n",
    "loss(x, y) = crossentropy(model(x), y)\n",
    "accuracy(x, y) = mean(argmax(model(x)) .== argmax(y))"
   ]
  },
  {
   "cell_type": "code",
   "execution_count": null,
   "metadata": {
    "collapsed": false,
    "deletable": true,
    "editable": true
   },
   "outputs": [],
   "source": [
    "model(training_data[1][1])"
   ]
  },
  {
   "cell_type": "code",
   "execution_count": null,
   "metadata": {
    "collapsed": false,
    "deletable": true,
    "editable": true
   },
   "outputs": [],
   "source": [
    "# Callback during the training\n",
    "function eval_cb()\n",
    "    \n",
    "#     println(\"Training loss: $(loss(X_train, y_train)), acc: $(accuracy(X_train, y_train))\")\n",
    "    println(\"Test loss: $(loss(X_test, y_test)), acc: $(accuracy(X_test, y_test))\")\n",
    "    println()\n",
    "end\n",
    "\n",
    "optimizer = ADAM(params(model))\n",
    "\n",
    "Flux.train!(loss, training_data, optimizer, cb = throttle(eval_cb, 10))"
   ]
  },
  {
   "cell_type": "code",
   "execution_count": null,
   "metadata": {
    "collapsed": false,
    "deletable": true,
    "editable": true
   },
   "outputs": [],
   "source": [
    "println(\"Optimization Finished!\")\n",
    "@printf \"Model accuracy on test set: %.3f\\n\" accuracy(X_test, y_test)"
   ]
  },
  {
   "cell_type": "code",
   "execution_count": null,
   "metadata": {
    "collapsed": true,
    "deletable": true,
    "editable": true
   },
   "outputs": [],
   "source": []
  }
 ],
 "metadata": {
  "kernelspec": {
   "display_name": "Julia 0.6.2",
   "language": "julia",
   "name": "julia-0.6"
  },
  "language_info": {
   "file_extension": ".jl",
   "mimetype": "application/julia",
   "name": "julia",
   "version": "0.6.2"
  }
 },
 "nbformat": 4,
 "nbformat_minor": 2
}
