{
 "cells": [
  {
   "cell_type": "code",
   "execution_count": 1,
   "metadata": {
    "collapsed": false
   },
   "outputs": [],
   "source": [
    "using Flux, Flux.Data.MNIST\n",
    "using Flux: onehotbatch, argmax, crossentropy, throttle\n",
    "using Base.Iterators: repeated, partition"
   ]
  },
  {
   "cell_type": "code",
   "execution_count": 2,
   "metadata": {
    "collapsed": false,
    "scrolled": true
   },
   "outputs": [
    {
     "data": {
      "text/plain": [
       "10×10000 Flux.OneHotMatrix{Array{Flux.OneHotVector,1}}:\n",
       " false  false  false   true  false  …  false  false  false  false  false\n",
       " false  false   true  false  false     false  false  false  false  false\n",
       " false   true  false  false  false      true  false  false  false  false\n",
       " false  false  false  false  false     false   true  false  false  false\n",
       " false  false  false  false   true     false  false   true  false  false\n",
       " false  false  false  false  false  …  false  false  false   true  false\n",
       " false  false  false  false  false     false  false  false  false   true\n",
       "  true  false  false  false  false     false  false  false  false  false\n",
       " false  false  false  false  false     false  false  false  false  false\n",
       " false  false  false  false  false     false  false  false  false  false"
      ]
     },
     "execution_count": 2,
     "metadata": {},
     "output_type": "execute_result"
    }
   ],
   "source": [
    "X_train = MNIST.images()\n",
    "y_train = onehotbatch(MNIST.labels(), 0:9)\n",
    "X_test = MNIST.images(:test)\n",
    "y_test = onehotbatch(MNIST.labels(:test), 0:9)"
   ]
  },
  {
   "cell_type": "code",
   "execution_count": 3,
   "metadata": {
    "collapsed": false
   },
   "outputs": [
    {
     "data": {
      "text/plain": [
       "28×28×1×10000 Array{Float64,4}:\n",
       "[:, :, 1, 1] =\n",
       " 0.0  0.0  0.0  0.0  0.0  0.0  0.0       …  0.0  0.0  0.0  0.0  0.0  0.0\n",
       " 0.0  0.0  0.0  0.0  0.0  0.0  0.0          0.0  0.0  0.0  0.0  0.0  0.0\n",
       " 0.0  0.0  0.0  0.0  0.0  0.0  0.0          0.0  0.0  0.0  0.0  0.0  0.0\n",
       " 0.0  0.0  0.0  0.0  0.0  0.0  0.0          0.0  0.0  0.0  0.0  0.0  0.0\n",
       " 0.0  0.0  0.0  0.0  0.0  0.0  0.0          0.0  0.0  0.0  0.0  0.0  0.0\n",
       " 0.0  0.0  0.0  0.0  0.0  0.0  0.0       …  0.0  0.0  0.0  0.0  0.0  0.0\n",
       " 0.0  0.0  0.0  0.0  0.0  0.0  0.0          0.0  0.0  0.0  0.0  0.0  0.0\n",
       " 0.0  0.0  0.0  0.0  0.0  0.0  0.329412     0.0  0.0  0.0  0.0  0.0  0.0\n",
       " 0.0  0.0  0.0  0.0  0.0  0.0  0.870588     0.0  0.0  0.0  0.0  0.0  0.0\n",
       " 0.0  0.0  0.0  0.0  0.0  0.0  0.262745     0.0  0.0  0.0  0.0  0.0  0.0\n",
       " 0.0  0.0  0.0  0.0  0.0  0.0  0.0       …  0.0  0.0  0.0  0.0  0.0  0.0\n",
       " 0.0  0.0  0.0  0.0  0.0  0.0  0.0          0.0  0.0  0.0  0.0  0.0  0.0\n",
       " 0.0  0.0  0.0  0.0  0.0  0.0  0.0          0.0  0.0  0.0  0.0  0.0  0.0\n",
       " ⋮                        ⋮              ⋱                 ⋮            \n",
       " 0.0  0.0  0.0  0.0  0.0  0.0  0.0          0.0  0.0  0.0  0.0  0.0  0.0\n",
       " 0.0  0.0  0.0  0.0  0.0  0.0  0.0          0.0  0.0  0.0  0.0  0.0  0.0\n",
       " 0.0  0.0  0.0  0.0  0.0  0.0  0.0          0.0  0.0  0.0  0.0  0.0  0.0\n",
       " 0.0  0.0  0.0  0.0  0.0  0.0  0.0          0.0  0.0  0.0  0.0  0.0  0.0\n",
       " 0.0  0.0  0.0  0.0  0.0  0.0  0.0       …  0.0  0.0  0.0  0.0  0.0  0.0\n",
       " 0.0  0.0  0.0  0.0  0.0  0.0  0.0          0.0  0.0  0.0  0.0  0.0  0.0\n",
       " 0.0  0.0  0.0  0.0  0.0  0.0  0.0          0.0  0.0  0.0  0.0  0.0  0.0\n",
       " 0.0  0.0  0.0  0.0  0.0  0.0  0.0          0.0  0.0  0.0  0.0  0.0  0.0\n",
       " 0.0  0.0  0.0  0.0  0.0  0.0  0.0          0.0  0.0  0.0  0.0  0.0  0.0\n",
       " 0.0  0.0  0.0  0.0  0.0  0.0  0.0       …  0.0  0.0  0.0  0.0  0.0  0.0\n",
       " 0.0  0.0  0.0  0.0  0.0  0.0  0.0          0.0  0.0  0.0  0.0  0.0  0.0\n",
       " 0.0  0.0  0.0  0.0  0.0  0.0  0.0          0.0  0.0  0.0  0.0  0.0  0.0\n",
       "\n",
       "[:, :, 1, 2] =\n",
       " 0.0  0.0  0.0  0.0  0.0  0.0  0.0  …  0.0       0.0       0.0        0.0\n",
       " 0.0  0.0  0.0  0.0  0.0  0.0  0.0     0.0       0.0       0.0        0.0\n",
       " 0.0  0.0  0.0  0.0  0.0  0.0  0.0     0.0       0.0       0.0        0.0\n",
       " 0.0  0.0  0.0  0.0  0.0  0.0  0.0     0.0       0.0       0.0        0.0\n",
       " 0.0  0.0  0.0  0.0  0.0  0.0  0.0     0.0       0.0       0.0        0.0\n",
       " 0.0  0.0  0.0  0.0  0.0  0.0  0.0  …  0.0       0.0       0.0        0.0\n",
       " 0.0  0.0  0.0  0.0  0.0  0.0  0.0     0.0       0.0       0.0        0.0\n",
       " 0.0  0.0  0.0  0.0  0.0  0.0  0.0     0.0       0.0       0.0        0.0\n",
       " 0.0  0.0  0.0  0.0  0.0  0.0  0.0     0.0       0.0       0.0        0.0\n",
       " 0.0  0.0  0.0  0.0  0.0  0.0  0.0     0.0       0.0       0.0        0.0\n",
       " 0.0  0.0  0.0  0.0  0.0  0.0  0.0  …  0.0       0.0       0.0        0.0\n",
       " 0.0  0.0  0.0  0.0  0.0  0.0  0.0     0.0       0.0       0.0        0.0\n",
       " 0.0  0.0  0.0  0.0  0.0  0.0  0.0     0.0       0.0       0.0        0.0\n",
       " ⋮                        ⋮         ⋱            ⋮                       \n",
       " 0.0  0.0  0.0  0.0  0.0  0.0  0.0     0.0       0.0       0.0        0.0\n",
       " 0.0  0.0  0.0  0.0  0.0  0.0  0.0     0.0       0.0       0.0        0.0\n",
       " 0.0  0.0  0.0  0.0  0.0  0.0  0.0     0.0       0.0       0.0        0.0\n",
       " 0.0  0.0  0.0  0.0  0.0  0.0  0.0     0.588235  0.576471  0.0392157  0.0\n",
       " 0.0  0.0  0.0  0.0  0.0  0.0  0.0  …  0.992157  0.992157  0.482353   0.0\n",
       " 0.0  0.0  0.0  0.0  0.0  0.0  0.0     0.458824  0.458824  0.223529   0.0\n",
       " 0.0  0.0  0.0  0.0  0.0  0.0  0.0     0.0       0.0       0.0        0.0\n",
       " 0.0  0.0  0.0  0.0  0.0  0.0  0.0     0.0       0.0       0.0        0.0\n",
       " 0.0  0.0  0.0  0.0  0.0  0.0  0.0     0.0       0.0       0.0        0.0\n",
       " 0.0  0.0  0.0  0.0  0.0  0.0  0.0  …  0.0       0.0       0.0        0.0\n",
       " 0.0  0.0  0.0  0.0  0.0  0.0  0.0     0.0       0.0       0.0        0.0\n",
       " 0.0  0.0  0.0  0.0  0.0  0.0  0.0     0.0       0.0       0.0        0.0\n",
       "\n",
       "[:, :, 1, 3] =\n",
       " 0.0  0.0  0.0  0.0  0.0  0.0  0.0  0.0  …  0.0  0.0  0.0  0.0  0.0  0.0  0.0\n",
       " 0.0  0.0  0.0  0.0  0.0  0.0  0.0  0.0     0.0  0.0  0.0  0.0  0.0  0.0  0.0\n",
       " 0.0  0.0  0.0  0.0  0.0  0.0  0.0  0.0     0.0  0.0  0.0  0.0  0.0  0.0  0.0\n",
       " 0.0  0.0  0.0  0.0  0.0  0.0  0.0  0.0     0.0  0.0  0.0  0.0  0.0  0.0  0.0\n",
       " 0.0  0.0  0.0  0.0  0.0  0.0  0.0  0.0     0.0  0.0  0.0  0.0  0.0  0.0  0.0\n",
       " 0.0  0.0  0.0  0.0  0.0  0.0  0.0  0.0  …  0.0  0.0  0.0  0.0  0.0  0.0  0.0\n",
       " 0.0  0.0  0.0  0.0  0.0  0.0  0.0  0.0     0.0  0.0  0.0  0.0  0.0  0.0  0.0\n",
       " 0.0  0.0  0.0  0.0  0.0  0.0  0.0  0.0     0.0  0.0  0.0  0.0  0.0  0.0  0.0\n",
       " 0.0  0.0  0.0  0.0  0.0  0.0  0.0  0.0     0.0  0.0  0.0  0.0  0.0  0.0  0.0\n",
       " 0.0  0.0  0.0  0.0  0.0  0.0  0.0  0.0     0.0  0.0  0.0  0.0  0.0  0.0  0.0\n",
       " 0.0  0.0  0.0  0.0  0.0  0.0  0.0  0.0  …  0.0  0.0  0.0  0.0  0.0  0.0  0.0\n",
       " 0.0  0.0  0.0  0.0  0.0  0.0  0.0  0.0     0.0  0.0  0.0  0.0  0.0  0.0  0.0\n",
       " 0.0  0.0  0.0  0.0  0.0  0.0  0.0  0.0     0.0  0.0  0.0  0.0  0.0  0.0  0.0\n",
       " ⋮                        ⋮              ⋱                      ⋮            \n",
       " 0.0  0.0  0.0  0.0  0.0  0.0  0.0  0.0     0.0  0.0  0.0  0.0  0.0  0.0  0.0\n",
       " 0.0  0.0  0.0  0.0  0.0  0.0  0.0  0.0     0.0  0.0  0.0  0.0  0.0  0.0  0.0\n",
       " 0.0  0.0  0.0  0.0  0.0  0.0  0.0  0.0     0.0  0.0  0.0  0.0  0.0  0.0  0.0\n",
       " 0.0  0.0  0.0  0.0  0.0  0.0  0.0  0.0     0.0  0.0  0.0  0.0  0.0  0.0  0.0\n",
       " 0.0  0.0  0.0  0.0  0.0  0.0  0.0  0.0  …  0.0  0.0  0.0  0.0  0.0  0.0  0.0\n",
       " 0.0  0.0  0.0  0.0  0.0  0.0  0.0  0.0     0.0  0.0  0.0  0.0  0.0  0.0  0.0\n",
       " 0.0  0.0  0.0  0.0  0.0  0.0  0.0  0.0     0.0  0.0  0.0  0.0  0.0  0.0  0.0\n",
       " 0.0  0.0  0.0  0.0  0.0  0.0  0.0  0.0     0.0  0.0  0.0  0.0  0.0  0.0  0.0\n",
       " 0.0  0.0  0.0  0.0  0.0  0.0  0.0  0.0     0.0  0.0  0.0  0.0  0.0  0.0  0.0\n",
       " 0.0  0.0  0.0  0.0  0.0  0.0  0.0  0.0  …  0.0  0.0  0.0  0.0  0.0  0.0  0.0\n",
       " 0.0  0.0  0.0  0.0  0.0  0.0  0.0  0.0     0.0  0.0  0.0  0.0  0.0  0.0  0.0\n",
       " 0.0  0.0  0.0  0.0  0.0  0.0  0.0  0.0     0.0  0.0  0.0  0.0  0.0  0.0  0.0\n",
       "\n",
       "...\n",
       "\n",
       "[:, :, 1, 9998] =\n",
       " 0.0  0.0  0.0  0.0  0.0  0.0  0.0  0.0  …  0.0  0.0  0.0  0.0  0.0  0.0\n",
       " 0.0  0.0  0.0  0.0  0.0  0.0  0.0  0.0     0.0  0.0  0.0  0.0  0.0  0.0\n",
       " 0.0  0.0  0.0  0.0  0.0  0.0  0.0  0.0     0.0  0.0  0.0  0.0  0.0  0.0\n",
       " 0.0  0.0  0.0  0.0  0.0  0.0  0.0  0.0     0.0  0.0  0.0  0.0  0.0  0.0\n",
       " 0.0  0.0  0.0  0.0  0.0  0.0  0.0  0.0     0.0  0.0  0.0  0.0  0.0  0.0\n",
       " 0.0  0.0  0.0  0.0  0.0  0.0  0.0  0.0  …  0.0  0.0  0.0  0.0  0.0  0.0\n",
       " 0.0  0.0  0.0  0.0  0.0  0.0  0.0  0.0     0.0  0.0  0.0  0.0  0.0  0.0\n",
       " 0.0  0.0  0.0  0.0  0.0  0.0  0.0  0.0     0.0  0.0  0.0  0.0  0.0  0.0\n",
       " 0.0  0.0  0.0  0.0  0.0  0.0  0.0  0.0     0.0  0.0  0.0  0.0  0.0  0.0\n",
       " 0.0  0.0  0.0  0.0  0.0  0.0  0.0  0.0     0.0  0.0  0.0  0.0  0.0  0.0\n",
       " 0.0  0.0  0.0  0.0  0.0  0.0  0.0  0.0  …  0.0  0.0  0.0  0.0  0.0  0.0\n",
       " 0.0  0.0  0.0  0.0  0.0  0.0  0.0  0.0     0.0  0.0  0.0  0.0  0.0  0.0\n",
       " 0.0  0.0  0.0  0.0  0.0  0.0  0.0  0.0     0.0  0.0  0.0  0.0  0.0  0.0\n",
       " ⋮                        ⋮              ⋱                 ⋮            \n",
       " 0.0  0.0  0.0  0.0  0.0  0.0  0.0  0.0     0.0  0.0  0.0  0.0  0.0  0.0\n",
       " 0.0  0.0  0.0  0.0  0.0  0.0  0.0  0.0     0.0  0.0  0.0  0.0  0.0  0.0\n",
       " 0.0  0.0  0.0  0.0  0.0  0.0  0.0  0.0     0.0  0.0  0.0  0.0  0.0  0.0\n",
       " 0.0  0.0  0.0  0.0  0.0  0.0  0.0  0.0     0.0  0.0  0.0  0.0  0.0  0.0\n",
       " 0.0  0.0  0.0  0.0  0.0  0.0  0.0  0.0  …  0.0  0.0  0.0  0.0  0.0  0.0\n",
       " 0.0  0.0  0.0  0.0  0.0  0.0  0.0  0.0     0.0  0.0  0.0  0.0  0.0  0.0\n",
       " 0.0  0.0  0.0  0.0  0.0  0.0  0.0  0.0     0.0  0.0  0.0  0.0  0.0  0.0\n",
       " 0.0  0.0  0.0  0.0  0.0  0.0  0.0  0.0     0.0  0.0  0.0  0.0  0.0  0.0\n",
       " 0.0  0.0  0.0  0.0  0.0  0.0  0.0  0.0     0.0  0.0  0.0  0.0  0.0  0.0\n",
       " 0.0  0.0  0.0  0.0  0.0  0.0  0.0  0.0  …  0.0  0.0  0.0  0.0  0.0  0.0\n",
       " 0.0  0.0  0.0  0.0  0.0  0.0  0.0  0.0     0.0  0.0  0.0  0.0  0.0  0.0\n",
       " 0.0  0.0  0.0  0.0  0.0  0.0  0.0  0.0     0.0  0.0  0.0  0.0  0.0  0.0\n",
       "\n",
       "[:, :, 1, 9999] =\n",
       " 0.0  0.0  0.0  0.0  0.0  0.0  0.0  …  0.0       0.0       0.0       0.0\n",
       " 0.0  0.0  0.0  0.0  0.0  0.0  0.0     0.0       0.0       0.0       0.0\n",
       " 0.0  0.0  0.0  0.0  0.0  0.0  0.0     0.0       0.0       0.0       0.0\n",
       " 0.0  0.0  0.0  0.0  0.0  0.0  0.0     0.0       0.0       0.0       0.0\n",
       " 0.0  0.0  0.0  0.0  0.0  0.0  0.0     0.0       0.0       0.0       0.0\n",
       " 0.0  0.0  0.0  0.0  0.0  0.0  0.0  …  0.0       0.0       0.0       0.0\n",
       " 0.0  0.0  0.0  0.0  0.0  0.0  0.0     0.0       0.0       0.0       0.0\n",
       " 0.0  0.0  0.0  0.0  0.0  0.0  0.0     0.0       0.0       0.0       0.0\n",
       " 0.0  0.0  0.0  0.0  0.0  0.0  0.0     0.407843  0.407843  0.270588  0.0\n",
       " 0.0  0.0  0.0  0.0  0.0  0.0  0.0     0.996078  0.996078  0.996078  0.0\n",
       " 0.0  0.0  0.0  0.0  0.0  0.0  0.0  …  0.996078  0.972549  0.4       0.0\n",
       " 0.0  0.0  0.0  0.0  0.0  0.0  0.0     0.184314  0.164706  0.0       0.0\n",
       " 0.0  0.0  0.0  0.0  0.0  0.0  0.0     0.0       0.0       0.0       0.0\n",
       " ⋮                        ⋮         ⋱            ⋮                      \n",
       " 0.0  0.0  0.0  0.0  0.0  0.0  0.0     0.0       0.0       0.0       0.0\n",
       " 0.0  0.0  0.0  0.0  0.0  0.0  0.0     0.0       0.0       0.0       0.0\n",
       " 0.0  0.0  0.0  0.0  0.0  0.0  0.0     0.0       0.0       0.0       0.0\n",
       " 0.0  0.0  0.0  0.0  0.0  0.0  0.0     0.0       0.0       0.0       0.0\n",
       " 0.0  0.0  0.0  0.0  0.0  0.0  0.0  …  0.0       0.0       0.0       0.0\n",
       " 0.0  0.0  0.0  0.0  0.0  0.0  0.0     0.0       0.0       0.0       0.0\n",
       " 0.0  0.0  0.0  0.0  0.0  0.0  0.0     0.0       0.0       0.0       0.0\n",
       " 0.0  0.0  0.0  0.0  0.0  0.0  0.0     0.0       0.0       0.0       0.0\n",
       " 0.0  0.0  0.0  0.0  0.0  0.0  0.0     0.0       0.0       0.0       0.0\n",
       " 0.0  0.0  0.0  0.0  0.0  0.0  0.0  …  0.0       0.0       0.0       0.0\n",
       " 0.0  0.0  0.0  0.0  0.0  0.0  0.0     0.0       0.0       0.0       0.0\n",
       " 0.0  0.0  0.0  0.0  0.0  0.0  0.0     0.0       0.0       0.0       0.0\n",
       "\n",
       "[:, :, 1, 10000] =\n",
       " 0.0  0.0  0.0  0.0  0.0  0.0         …  0.0        0.0        0.0  0.0  0.0\n",
       " 0.0  0.0  0.0  0.0  0.0  0.0            0.0        0.0        0.0  0.0  0.0\n",
       " 0.0  0.0  0.0  0.0  0.0  0.0            0.0        0.0        0.0  0.0  0.0\n",
       " 0.0  0.0  0.0  0.0  0.0  0.0            0.0        0.0        0.0  0.0  0.0\n",
       " 0.0  0.0  0.0  0.0  0.0  0.0            0.0        0.0        0.0  0.0  0.0\n",
       " 0.0  0.0  0.0  0.0  0.0  0.0         …  0.0        0.0        0.0  0.0  0.0\n",
       " 0.0  0.0  0.0  0.0  0.0  0.0            0.0        0.0        0.0  0.0  0.0\n",
       " 0.0  0.0  0.0  0.0  0.0  0.0            0.0        0.0        0.0  0.0  0.0\n",
       " 0.0  0.0  0.0  0.0  0.0  0.0            0.0        0.0        0.0  0.0  0.0\n",
       " 0.0  0.0  0.0  0.0  0.0  0.0            0.0        0.0        0.0  0.0  0.0\n",
       " 0.0  0.0  0.0  0.0  0.0  0.0         …  0.0        0.0        0.0  0.0  0.0\n",
       " 0.0  0.0  0.0  0.0  0.0  0.0            0.0        0.0        0.0  0.0  0.0\n",
       " 0.0  0.0  0.0  0.0  0.0  0.0            0.0        0.0        0.0  0.0  0.0\n",
       " ⋮                        ⋮           ⋱                        ⋮            \n",
       " 0.0  0.0  0.0  0.0  0.0  0.0392157      0.686275   0.0156863  0.0  0.0  0.0\n",
       " 0.0  0.0  0.0  0.0  0.0  0.0392157      0.203922   0.0        0.0  0.0  0.0\n",
       " 0.0  0.0  0.0  0.0  0.0  0.0509804      0.0196078  0.0        0.0  0.0  0.0\n",
       " 0.0  0.0  0.0  0.0  0.0  0.00784314     0.0        0.0        0.0  0.0  0.0\n",
       " 0.0  0.0  0.0  0.0  0.0  0.0         …  0.0        0.0        0.0  0.0  0.0\n",
       " 0.0  0.0  0.0  0.0  0.0  0.0            0.0        0.0        0.0  0.0  0.0\n",
       " 0.0  0.0  0.0  0.0  0.0  0.0            0.0        0.0        0.0  0.0  0.0\n",
       " 0.0  0.0  0.0  0.0  0.0  0.0            0.0        0.0        0.0  0.0  0.0\n",
       " 0.0  0.0  0.0  0.0  0.0  0.0            0.0        0.0        0.0  0.0  0.0\n",
       " 0.0  0.0  0.0  0.0  0.0  0.0         …  0.0        0.0        0.0  0.0  0.0\n",
       " 0.0  0.0  0.0  0.0  0.0  0.0            0.0        0.0        0.0  0.0  0.0\n",
       " 0.0  0.0  0.0  0.0  0.0  0.0            0.0        0.0        0.0  0.0  0.0"
      ]
     },
     "execution_count": 3,
     "metadata": {},
     "output_type": "execute_result"
    }
   ],
   "source": [
    "# Partition into batches of size 1,000\n",
    "training_data = [(cat(4, float.(X_train[i])...), y_train[:,i])\n",
    "         for i in partition(1:60_000, 100)]\n",
    "\n",
    "# X_train = cat(4, float.(X_train)...)\n",
    "X_test = cat(4, float.(X_test)...)"
   ]
  },
  {
   "cell_type": "code",
   "execution_count": 16,
   "metadata": {
    "collapsed": false
   },
   "outputs": [
    {
     "data": {
      "text/plain": [
       "Chain(Conv2D((3, 3), 1=>32, NNlib.relu), #21, Conv2D((3, 3), 32=>64, NNlib.relu), #22, #23, Dense(1600, 128, NNlib.relu), Dense(128, 10), NNlib.softmax)"
      ]
     },
     "execution_count": 16,
     "metadata": {},
     "output_type": "execute_result"
    }
   ],
   "source": [
    "model = Chain(\n",
    "            #28 * 28\n",
    "          Conv2D((3, 3), 1=>32, relu),\n",
    "            #26 * 26 * 32   \n",
    "          x -> maxpool2d(x, 2),\n",
    "            #13 * 13 * 32   \n",
    "          Conv2D((3, 3), 32=>64, relu),\n",
    "            #11 * 11 * 64\n",
    "          x -> maxpool2d(x, 2),\n",
    "            #5 * 5 * 64\n",
    "          x -> reshape(x, :, size(x, 4)),\n",
    "          Dense(1600, 128, relu),\n",
    "          Dense(128, 10), \n",
    "          softmax)"
   ]
  },
  {
   "cell_type": "code",
   "execution_count": 17,
   "metadata": {
    "collapsed": false
   },
   "outputs": [
    {
     "data": {
      "text/plain": [
       "accuracy (generic function with 1 method)"
      ]
     },
     "execution_count": 17,
     "metadata": {},
     "output_type": "execute_result"
    }
   ],
   "source": [
    "# Use cross entropy loss here\n",
    "loss(x, y) = crossentropy(model(x), y)\n",
    "accuracy(x, y) = mean(argmax(model(x)) .== argmax(y))"
   ]
  },
  {
   "cell_type": "code",
   "execution_count": 18,
   "metadata": {
    "collapsed": false
   },
   "outputs": [
    {
     "data": {
      "text/plain": [
       "Tracked 10×100 Array{Float64,2}:\n",
       " 0.100261   0.100104   0.100141   …  0.100142   0.100229   0.100148 \n",
       " 0.100054   0.0999251  0.099972      0.0998896  0.100056   0.0998122\n",
       " 0.0997385  0.0999375  0.099703      0.0997396  0.0998294  0.0997997\n",
       " 0.0999268  0.100244   0.100141      0.0999377  0.099821   0.100013 \n",
       " 0.0997632  0.0999284  0.099768      0.099831   0.0997495  0.0999184\n",
       " 0.0995322  0.0998416  0.0998644  …  0.10008    0.0997491  0.0999026\n",
       " 0.100143   0.100083   0.100041      0.100047   0.100057   0.100111 \n",
       " 0.100191   0.0999573  0.0999597     0.100085   0.100203   0.100168 \n",
       " 0.100144   0.0999102  0.099934      0.100124   0.10014    0.10007  \n",
       " 0.100247   0.100069   0.100476      0.100123   0.100166   0.100057 "
      ]
     },
     "execution_count": 18,
     "metadata": {},
     "output_type": "execute_result"
    }
   ],
   "source": [
    "model(training_data[1][1])"
   ]
  },
  {
   "cell_type": "code",
   "execution_count": null,
   "metadata": {
    "collapsed": false
   },
   "outputs": [
    {
     "name": "stdout",
     "output_type": "stream",
     "text": [
      "Test loss: param(2.30067), acc: 0.1905\n",
      "\n"
     ]
    }
   ],
   "source": [
    "# Callback during the training\n",
    "function eval_cb()\n",
    "    \n",
    "#     println(\"Training loss: $(loss(X_train, y_train)), acc: $(accuracy(X_train, y_train))\")\n",
    "    println(\"Test loss: $(loss(X_test, y_test)), acc: $(accuracy(X_test, y_test))\")\n",
    "    println()\n",
    "end\n",
    "\n",
    "optimizer = ADAM(params(model))\n",
    "\n",
    "Flux.train!(loss, training_data, optimizer, cb = throttle(eval_cb, 10))"
   ]
  },
  {
   "cell_type": "code",
   "execution_count": 7,
   "metadata": {
    "collapsed": false
   },
   "outputs": [
    {
     "name": "stdout",
     "output_type": "stream",
     "text": [
      "Optimization Finished!\n"
     ]
    },
    {
     "ename": "LoadError",
     "evalue": "\u001b[91mMethodError: no method matching conv2d(::Array{Array{ColorTypes.Gray{FixedPointNumbers.Normed{UInt8,8}},2},1}, ::TrackedArray{…,Array{Float64,4}}; stride=1, padding=0)\u001b[0m\nClosest candidates are:\n  conv2d(\u001b[91m::Flux.Tracker.TrackedArray{#s7,4,A} where A where #s7\u001b[39m, ::Flux.Tracker.TrackedArray{#s6,4,A} where A where #s6; stride, padding) at /Users/hitmann47/.julia/v0.6/Flux/src/tracker/lib.jl:142\n  conv2d(\u001b[91m::AbstractArray{#s7,4} where #s7\u001b[39m, ::Flux.Tracker.TrackedArray{#s6,4,A} where A where #s6; stride, padding) at /Users/hitmann47/.julia/v0.6/Flux/src/tracker/lib.jl:144\n  conv2d(\u001b[91m::Flux.Tracker.TrackedArray{#s7,4,A} where A where #s7\u001b[39m, ::AbstractArray{#s6,4} where #s6; stride, padding) at /Users/hitmann47/.julia/v0.6/Flux/src/tracker/lib.jl:146\u001b[39m",
     "output_type": "error",
     "traceback": [
      "\u001b[91mMethodError: no method matching conv2d(::Array{Array{ColorTypes.Gray{FixedPointNumbers.Normed{UInt8,8}},2},1}, ::TrackedArray{…,Array{Float64,4}}; stride=1, padding=0)\u001b[0m\nClosest candidates are:\n  conv2d(\u001b[91m::Flux.Tracker.TrackedArray{#s7,4,A} where A where #s7\u001b[39m, ::Flux.Tracker.TrackedArray{#s6,4,A} where A where #s6; stride, padding) at /Users/hitmann47/.julia/v0.6/Flux/src/tracker/lib.jl:142\n  conv2d(\u001b[91m::AbstractArray{#s7,4} where #s7\u001b[39m, ::Flux.Tracker.TrackedArray{#s6,4,A} where A where #s6; stride, padding) at /Users/hitmann47/.julia/v0.6/Flux/src/tracker/lib.jl:144\n  conv2d(\u001b[91m::Flux.Tracker.TrackedArray{#s7,4,A} where A where #s7\u001b[39m, ::AbstractArray{#s6,4} where #s6; stride, padding) at /Users/hitmann47/.julia/v0.6/Flux/src/tracker/lib.jl:146\u001b[39m",
      "",
      "Stacktrace:",
      " [1] \u001b[1m(::Flux.Conv2D{NNlib.#relu,TrackedArray{…,Array{Float64,4}}})\u001b[22m\u001b[22m\u001b[1m(\u001b[22m\u001b[22m::Array{Array{ColorTypes.Gray{FixedPointNumbers.Normed{UInt8,8}},2},1}\u001b[1m)\u001b[22m\u001b[22m at \u001b[1m/Users/hitmann47/.julia/v0.6/Flux/src/layers/conv.jl:26\u001b[22m\u001b[22m",
      " [2] \u001b[1mmapfoldl_impl\u001b[22m\u001b[22m\u001b[1m(\u001b[22m\u001b[22m::Base.#identity, ::Flux.##62#63, ::Array{Array{ColorTypes.Gray{FixedPointNumbers.Normed{UInt8,8}},2},1}, ::Array{Any,1}, ::Int64\u001b[1m)\u001b[22m\u001b[22m at \u001b[1m./reduce.jl:43\u001b[22m\u001b[22m",
      " [3] \u001b[1m(::Flux.Chain)\u001b[22m\u001b[22m\u001b[1m(\u001b[22m\u001b[22m::Array{Array{ColorTypes.Gray{FixedPointNumbers.Normed{UInt8,8}},2},1}\u001b[1m)\u001b[22m\u001b[22m at \u001b[1m/Users/hitmann47/.julia/v0.6/Flux/src/layers/basic.jl:31\u001b[22m\u001b[22m",
      " [4] \u001b[1maccuracy\u001b[22m\u001b[22m\u001b[1m(\u001b[22m\u001b[22m::Array{Array{ColorTypes.Gray{FixedPointNumbers.Normed{UInt8,8}},2},1}, ::Flux.OneHotMatrix{Array{Flux.OneHotVector,1}}\u001b[1m)\u001b[22m\u001b[22m at \u001b[1m./In[5]:3\u001b[22m\u001b[22m",
      " [5] \u001b[1minclude_string\u001b[22m\u001b[22m\u001b[1m(\u001b[22m\u001b[22m::String, ::String\u001b[1m)\u001b[22m\u001b[22m at \u001b[1m./loading.jl:522\u001b[22m\u001b[22m"
     ]
    }
   ],
   "source": [
    "println(\"Optimization Finished!\")\n",
    "@printf \"Model accuracy on test set: %.3f\\n\" accuracy(X_test, y_test)"
   ]
  },
  {
   "cell_type": "code",
   "execution_count": null,
   "metadata": {
    "collapsed": true
   },
   "outputs": [],
   "source": []
  }
 ],
 "metadata": {
  "kernelspec": {
   "display_name": "Julia 0.6.2",
   "language": "julia",
   "name": "julia-0.6"
  },
  "language_info": {
   "file_extension": ".jl",
   "mimetype": "application/julia",
   "name": "julia",
   "version": "0.6.2"
  }
 },
 "nbformat": 4,
 "nbformat_minor": 2
}
