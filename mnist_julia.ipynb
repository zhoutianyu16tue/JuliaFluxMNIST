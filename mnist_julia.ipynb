{
 "cells": [
  {
   "cell_type": "code",
   "execution_count": 1,
   "metadata": {
    "collapsed": false
   },
   "outputs": [],
   "source": [
    "using Flux, Flux.Data.MNIST\n",
    "using Flux: onehotbatch, argmax, crossentropy, throttle\n",
    "using Base.Iterators: repeated, partition"
   ]
  },
  {
   "cell_type": "code",
   "execution_count": 2,
   "metadata": {
    "collapsed": false,
    "scrolled": true
   },
   "outputs": [
    {
     "data": {
      "text/plain": [
       "10×10000 Flux.OneHotMatrix{Array{Flux.OneHotVector,1}}:\n",
       " false  false  false   true  false  …  false  false  false  false  false\n",
       " false  false   true  false  false     false  false  false  false  false\n",
       " false   true  false  false  false      true  false  false  false  false\n",
       " false  false  false  false  false     false   true  false  false  false\n",
       " false  false  false  false   true     false  false   true  false  false\n",
       " false  false  false  false  false  …  false  false  false   true  false\n",
       " false  false  false  false  false     false  false  false  false   true\n",
       "  true  false  false  false  false     false  false  false  false  false\n",
       " false  false  false  false  false     false  false  false  false  false\n",
       " false  false  false  false  false     false  false  false  false  false"
      ]
     },
     "execution_count": 2,
     "metadata": {},
     "output_type": "execute_result"
    }
   ],
   "source": [
    "X_train = MNIST.images()\n",
    "y_train = onehotbatch(MNIST.labels(), 0:9)\n",
    "X_test = MNIST.images(:test)\n",
    "y_test = onehotbatch(MNIST.labels(:test), 0:9)"
   ]
  },
  {
   "cell_type": "code",
   "execution_count": null,
   "metadata": {
    "collapsed": false
   },
   "outputs": [],
   "source": [
    "# Partition into batches of size 1,000\n",
    "training_data = [(cat(4, float.(X_train[i])...), y_train[:,i])\n",
    "         for i in partition(1:60_000, 100)]\n",
    "\n",
    "# X_train = cat(4, float.(X_train)...)\n",
    "X_test = cat(4, float.(X_test)...)"
   ]
  },
  {
   "cell_type": "code",
   "execution_count": null,
   "metadata": {
    "collapsed": false
   },
   "outputs": [],
   "source": [
    "model = Chain(\n",
    "          Conv2D((2,2), 1=>16, relu),\n",
    "          x -> maxpool2d(x, 2),\n",
    "          Conv2D((2,2), 16=>8, relu),\n",
    "          x -> maxpool2d(x, 2),\n",
    "          x -> reshape(x, :, size(x, 4)),\n",
    "          Dense(288, 10), \n",
    "          softmax)"
   ]
  },
  {
   "cell_type": "code",
   "execution_count": null,
   "metadata": {
    "collapsed": false
   },
   "outputs": [],
   "source": [
    "# Use cross entropy loss here\n",
    "loss(x, y) = crossentropy(model(x), y)\n",
    "accuracy(x, y) = mean(argmax(model(x)) .== argmax(y))"
   ]
  },
  {
   "cell_type": "code",
   "execution_count": null,
   "metadata": {
    "collapsed": false
   },
   "outputs": [],
   "source": [
    "# Callback during the training\n",
    "function eval_cb()\n",
    "    \n",
    "    println(\"Training loss: $(loss(X_train, y_train)), acc: $(accuracy(X_train, y_train))\")\n",
    "    println(\"Test loss: $(loss(X_test, y_test)), acc: $(accuracy(X_test, y_test))\")\n",
    "    println()\n",
    "end\n",
    "\n",
    "optimizer = ADAM(params(model))\n",
    "\n",
    "Flux.train!(loss, training_data, optimizer, cb = throttle(eval_cb, 10))"
   ]
  },
  {
   "cell_type": "code",
   "execution_count": null,
   "metadata": {
    "collapsed": false
   },
   "outputs": [],
   "source": [
    "println(\"Optimization Finished!\")\n",
    "@printf \"Model accuracy on training set: %.3f\\n\" accuracy(X_train, y_train)\n",
    "@printf \"Model accuracy on test set: %.3f\\n\" accuracy(X_test, y_test)"
   ]
  },
  {
   "cell_type": "code",
   "execution_count": null,
   "metadata": {
    "collapsed": true
   },
   "outputs": [],
   "source": []
  }
 ],
 "metadata": {
  "kernelspec": {
   "display_name": "Julia 0.6.2",
   "language": "julia",
   "name": "julia-0.6"
  },
  "language_info": {
   "file_extension": ".jl",
   "mimetype": "application/julia",
   "name": "julia",
   "version": "0.6.2"
  }
 },
 "nbformat": 4,
 "nbformat_minor": 2
}
